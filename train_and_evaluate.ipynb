{
 "cells": [
  {
   "metadata": {},
   "cell_type": "markdown",
   "source": "# Required imports",
   "id": "527ba8e63b8e32f"
  },
  {
   "metadata": {
    "ExecuteTime": {
     "end_time": "2025-04-12T12:30:12.049006Z",
     "start_time": "2025-04-12T12:30:08.680038Z"
    }
   },
   "cell_type": "code",
   "source": [
    "import torch\n",
    "import torchmetrics\n",
    "import wandb\n",
    "\n",
    "import torch.nn as nn\n",
    "import numpy as np\n",
    "import pandas as pd\n",
    "import seaborn as sns\n",
    "import matplotlib.pyplot as plt\n",
    "\n",
    "from datasets import load_dataset\n",
    "from torch.utils.data import TensorDataset, DataLoader\n",
    "from sklearn.feature_extraction.text import TfidfVectorizer\n",
    "from sklearn.metrics import classification_report\n",
    "from sklearn.metrics import confusion_matrix\n",
    "from sklearn.metrics import accuracy_score\n",
    "from tqdm import tqdm\n",
    "\n",
    "from review_classifier import ReviewClassifier"
   ],
   "id": "4eb97905f8e2b4dc",
   "outputs": [],
   "execution_count": 1
  },
  {
   "metadata": {},
   "cell_type": "markdown",
   "source": "# Logging into Weights&Biases",
   "id": "65c800d09f3ef0ae"
  },
  {
   "metadata": {
    "ExecuteTime": {
     "end_time": "2025-04-12T12:30:12.756565Z",
     "start_time": "2025-04-12T12:30:12.053513Z"
    }
   },
   "cell_type": "code",
   "source": "wandb.login()",
   "id": "56548377b1a28120",
   "outputs": [
    {
     "name": "stderr",
     "output_type": "stream",
     "text": [
      "\u001B[34m\u001B[1mwandb\u001B[0m: Using wandb-core as the SDK backend.  Please refer to https://wandb.me/wandb-core for more information.\n",
      "\u001B[34m\u001B[1mwandb\u001B[0m: Currently logged in as: \u001B[33mdominika-boguszewska-stud\u001B[0m (\u001B[33mdominika-boguszewska-stud-warsaw-university-of-technology\u001B[0m) to \u001B[32mhttps://api.wandb.ai\u001B[0m. Use \u001B[1m`wandb login --relogin`\u001B[0m to force relogin\n"
     ]
    },
    {
     "data": {
      "text/plain": [
       "True"
      ]
     },
     "execution_count": 2,
     "metadata": {},
     "output_type": "execute_result"
    }
   ],
   "execution_count": 2
  },
  {
   "metadata": {},
   "cell_type": "markdown",
   "source": "# Loading data",
   "id": "707f36a2dc17c0b0"
  },
  {
   "metadata": {
    "ExecuteTime": {
     "end_time": "2025-04-12T12:30:16.364446Z",
     "start_time": "2025-04-12T12:30:12.830324Z"
    }
   },
   "cell_type": "code",
   "source": "dataset = load_dataset(\"Yelp/yelp_review_full\")",
   "id": "38763960adbee110",
   "outputs": [],
   "execution_count": 3
  },
  {
   "metadata": {
    "ExecuteTime": {
     "end_time": "2025-04-12T12:30:16.373735Z",
     "start_time": "2025-04-12T12:30:16.370889Z"
    }
   },
   "cell_type": "code",
   "source": "dataset",
   "id": "4d66142255d7a484",
   "outputs": [
    {
     "data": {
      "text/plain": [
       "DatasetDict({\n",
       "    train: Dataset({\n",
       "        features: ['label', 'text'],\n",
       "        num_rows: 650000\n",
       "    })\n",
       "    test: Dataset({\n",
       "        features: ['label', 'text'],\n",
       "        num_rows: 50000\n",
       "    })\n",
       "})"
      ]
     },
     "execution_count": 4,
     "metadata": {},
     "output_type": "execute_result"
    }
   ],
   "execution_count": 4
  },
  {
   "metadata": {},
   "cell_type": "markdown",
   "source": "## Splitting data into training, validation and testing datasets",
   "id": "cdab0272ab70da2b"
  },
  {
   "metadata": {
    "ExecuteTime": {
     "end_time": "2025-04-12T12:30:16.550451Z",
     "start_time": "2025-04-12T12:30:16.415392Z"
    }
   },
   "cell_type": "code",
   "source": [
    "test_dataset = dataset[\"test\"]\n",
    "\n",
    "split_dataset = dataset[\"train\"].train_test_split(test_size=0.2)\n",
    "train_dataset = split_dataset[\"train\"]\n",
    "val_dataset = split_dataset[\"test\"]"
   ],
   "id": "692f962f99c6d1d0",
   "outputs": [],
   "execution_count": 5
  },
  {
   "metadata": {
    "ExecuteTime": {
     "end_time": "2025-04-12T12:30:16.559182Z",
     "start_time": "2025-04-12T12:30:16.556666Z"
    }
   },
   "cell_type": "code",
   "source": [
    "print(train_dataset)\n",
    "print(val_dataset)\n",
    "print(test_dataset)"
   ],
   "id": "f599e54a36bea489",
   "outputs": [
    {
     "name": "stdout",
     "output_type": "stream",
     "text": [
      "Dataset({\n",
      "    features: ['label', 'text'],\n",
      "    num_rows: 520000\n",
      "})\n",
      "Dataset({\n",
      "    features: ['label', 'text'],\n",
      "    num_rows: 130000\n",
      "})\n",
      "Dataset({\n",
      "    features: ['label', 'text'],\n",
      "    num_rows: 50000\n",
      "})\n"
     ]
    }
   ],
   "execution_count": 6
  },
  {
   "metadata": {
    "ExecuteTime": {
     "end_time": "2025-04-12T12:30:16.604485Z",
     "start_time": "2025-04-12T12:30:16.601407Z"
    }
   },
   "cell_type": "code",
   "source": "print(train_dataset[0])",
   "id": "7dfed5365a9bad37",
   "outputs": [
    {
     "name": "stdout",
     "output_type": "stream",
     "text": [
      "{'label': 3, 'text': 'One of our favorite Madison restaurants!  Great food (most of the time) and fast.  The non-booth side feels like a cafeteria, though, since the tables are so close together.  Great desserts too!'}\n"
     ]
    }
   ],
   "execution_count": 7
  },
  {
   "metadata": {},
   "cell_type": "markdown",
   "source": "## Creating smaller subsets",
   "id": "8fd434e2e4e2180b"
  },
  {
   "metadata": {
    "ExecuteTime": {
     "end_time": "2025-04-12T12:30:16.797515Z",
     "start_time": "2025-04-12T12:30:16.648674Z"
    }
   },
   "cell_type": "code",
   "source": [
    "train_dataset = train_dataset.shuffle().select(range(int(len(train_dataset) * .15)))\n",
    "val_dataset = val_dataset.shuffle().select(range(int(len(val_dataset) * .1)))\n",
    "test_dataset = test_dataset.shuffle().select(range(int(len(test_dataset) * .4)))\n",
    "\n",
    "print(f\"Number of samples in training set: {len(train_dataset)}\")\n",
    "print(f\"Number of samples in validation set: {len(val_dataset)}\")\n",
    "print(f\"Number of samples in testing set: {len(test_dataset)}\")"
   ],
   "id": "5486fcec594d944",
   "outputs": [
    {
     "name": "stdout",
     "output_type": "stream",
     "text": [
      "Number of samples in training set: 78000\n",
      "Number of samples in validation set: 13000\n",
      "Number of samples in testing set: 20000\n"
     ]
    }
   ],
   "execution_count": 8
  },
  {
   "metadata": {},
   "cell_type": "markdown",
   "source": "## Histogram of labels in training dataset",
   "id": "ead495dde4ab87e1"
  },
  {
   "metadata": {
    "ExecuteTime": {
     "end_time": "2025-04-12T12:30:17.330622Z",
     "start_time": "2025-04-12T12:30:16.803892Z"
    }
   },
   "cell_type": "code",
   "source": [
    "# Count occurrences of each label\n",
    "unique_labels, counts = np.unique(train_dataset['label'], return_counts=True)\n",
    "\n",
    "# Plot histogram\n",
    "plt.bar(unique_labels, counts, color=['skyblue', 'orange'], edgecolor='black')\n",
    "plt.title('Histogram of Binary Labels')\n",
    "plt.xlabel('Label')\n",
    "plt.ylabel('Frequency')\n",
    "plt.xticks(unique_labels)\n",
    "plt.grid(axis='y', linestyle='--', alpha=0.7)\n",
    "plt.show()"
   ],
   "id": "3a3394bfc7c6d370",
   "outputs": [
    {
     "data": {
      "text/plain": [
       "<Figure size 640x480 with 1 Axes>"
      ],
      "image/png": "[encoded data removed]"
     },
     "metadata": {},
     "output_type": "display_data"
    }
   ],
   "execution_count": 9
  },
  {
   "metadata": {},
   "cell_type": "markdown",
   "source": "# TF-IDF Feature Extraction",
   "id": "a83f0da9db2ea2b9"
  },
  {
   "metadata": {
    "ExecuteTime": {
     "end_time": "2025-04-12T12:30:23.576006Z",
     "start_time": "2025-04-12T12:30:17.336926Z"
    }
   },
   "cell_type": "code",
   "source": [
    "vocab_size = 10000\n",
    "\n",
    "vectorizer = TfidfVectorizer(\n",
    "    max_features=vocab_size,\n",
    "    lowercase=True,\n",
    "    analyzer='word',\n",
    "    ngram_range=(1, 1),\n",
    "    stop_words=\"english\"\n",
    ")\n",
    "\n",
    "train_tfidf_features = vectorizer.fit_transform(train_dataset[\"text\"])\n",
    "val_tfidf_features = vectorizer.transform(val_dataset[\"text\"])\n",
    "test_tfidf_features = vectorizer.transform(test_dataset[\"text\"])"
   ],
   "id": "97591fa46ff19535",
   "outputs": [],
   "execution_count": 10
  },
  {
   "metadata": {
    "ExecuteTime": {
     "end_time": "2025-04-12T12:30:23.591048Z",
     "start_time": "2025-04-12T12:30:23.582474Z"
    }
   },
   "cell_type": "code",
   "source": [
    "print(f\"Size of TF-IDF matrix for training dataset: {train_tfidf_features.shape}\")\n",
    "print(f\"{train_tfidf_features.dtype=}\\n\")\n",
    "\n",
    "feature_names = vectorizer.get_feature_names_out()\n",
    "print(f\"Number of features: {len(feature_names)}\")\n",
    "print(f\"Example features: {np.random.choice(feature_names, 20)}\\n\")"
   ],
   "id": "9913547d86c1740f",
   "outputs": [
    {
     "name": "stdout",
     "output_type": "stream",
     "text": [
      "Size of TF-IDF matrix for training dataset: (78000, 10000)\n",
      "train_tfidf_features.dtype=dtype('float64')\n",
      "\n",
      "Number of features: 10000\n",
      "Example features: ['laid' 'stopping' 'sicilian' 'carried' 'suggested' 'flawless' 'catherine'\n",
      " 'san' 'meet' 'stumbled' 'dreams' 'finish' 'hubs' 'amenities' 'expansive'\n",
      " 'wir' 'greasy' 'fitting' 'nwas' 'tamale']\n",
      "\n"
     ]
    }
   ],
   "execution_count": 11
  },
  {
   "metadata": {},
   "cell_type": "markdown",
   "source": "## Displaying the feature vector for the selected training set element",
   "id": "84ce7fa33e030a49"
  },
  {
   "metadata": {
    "ExecuteTime": {
     "end_time": "2025-04-12T12:30:23.939393Z",
     "start_time": "2025-04-12T12:30:23.626588Z"
    }
   },
   "cell_type": "code",
   "source": [
    "ndx = 111\n",
    "print(f\"Training set element with index={ndx}\")\n",
    "print(f\"{train_dataset['text'][ndx]=}\\n\")\n",
    "\n",
    "print(f\"Features of element with index={ndx}:\")\n",
    "\n",
    "features = train_tfidf_features[ndx]\n",
    "non_zero_cols = features.nonzero()[1]\n",
    "\n",
    "non_zero_cols = sorted(non_zero_cols)\n",
    "\n",
    "for i in non_zero_cols:\n",
    "    print(f\"Column: {i} ({feature_names[i]})   Weight: {features[0, i]:.5f}\")"
   ],
   "id": "b1b10c5c0d2fe2",
   "outputs": [
    {
     "name": "stdout",
     "output_type": "stream",
     "text": [
      "Training set element with index=111\n",
      "train_dataset['text'][ndx]='Jacs has got the atmosphere nailed - love the wood floors, exposed brick walls and tin ceilings. Our server was excellent - friendly, attentive, and knowledgeable about the  menu.  \\\\n\\\\nWe started with an order of cheese curds which carried a $7 price tag. We were both left us going \\\\\"wah wah\\\\\" when a small plate arrived, the cheese curds barely making up a layer covering the plate. Good thing I\\'m not too much of a cheese curd lover because this was hardly a Wisconsin portion for two! (I\\'m from Michigan, forgive me, I don\\'t know any better...)\\\\n\\\\nThe draft beer list is extensive and diverse, although it is pricey. Most of the beers are in the $7-8 range.  I certainly understand that fancy beers are often served in a smaller goblet glass, but I do think a menu should (and usually does) indicate this in the description.  Otherwise you get sad thirsty people like me expecting a pint and getting a tulip.  \\\\n\\\\nMoving on!  The food was quite good.  We ordered a large beet salad ($11) to share and our server made the extra effort to have the kitchen split the salad into two servings instead of simply handing us an extra fork & plate.  Kudos!  The butternut squash flatbread was excellent. Don\\'t expect a pizza, this is different, kids!  A thin flatbread smeared with a butternut squash & apple puree, topped with chunks of brie, fresh spinach, red onion, and pepitas.  Let\\'s just say people were jealous at work the next day when they saw my carryout box.\\\\n\\\\nLiked the atmosphere, service was excellent, would skip the curds and opt for a bottle of beer.  That about sums it up.'\n",
      "\n",
      "Features of element with index=111:\n",
      "Column: 19 (11)   Weight: 0.07009\n",
      "Column: 513 (apple)   Weight: 0.08037\n",
      "Column: 576 (arrived)   Weight: 0.05916\n",
      "Column: 644 (atmosphere)   Weight: 0.10759\n",
      "Column: 662 (attentive)   Weight: 0.06347\n",
      "Column: 809 (barely)   Weight: 0.07079\n",
      "Column: 888 (beer)   Weight: 0.11166\n",
      "Column: 889 (beers)   Weight: 0.14032\n",
      "Column: 890 (beet)   Weight: 0.10069\n",
      "Column: 942 (better)   Weight: 0.04031\n",
      "Column: 1115 (bottle)   Weight: 0.06979\n",
      "Column: 1137 (box)   Weight: 0.07162\n",
      "Column: 1193 (brick)   Weight: 0.09658\n",
      "Column: 1197 (brie)   Weight: 0.09937\n",
      "Column: 1335 (butternut)   Weight: 0.21717\n",
      "Column: 1473 (carried)   Weight: 0.10204\n",
      "Column: 1533 (ceilings)   Weight: 0.10080\n",
      "Column: 1556 (certainly)   Weight: 0.07047\n",
      "Column: 1638 (cheese)   Weight: 0.14675\n",
      "Column: 1723 (chunks)   Weight: 0.08399\n",
      "Column: 2165 (covering)   Weight: 0.10289\n",
      "Column: 2296 (curd)   Weight: 0.11940\n",
      "Column: 2297 (curds)   Weight: 0.30472\n",
      "Column: 2381 (day)   Weight: 0.04476\n",
      "Column: 2509 (description)   Weight: 0.09206\n",
      "Column: 2580 (different)   Weight: 0.05095\n",
      "Column: 2692 (diverse)   Weight: 0.09773\n",
      "Column: 2708 (does)   Weight: 0.05684\n",
      "Column: 2725 (don)   Weight: 0.07199\n",
      "Column: 2769 (draft)   Weight: 0.08828\n",
      "Column: 2928 (effort)   Weight: 0.08314\n",
      "Column: 3124 (excellent)   Weight: 0.16543\n",
      "Column: 3164 (expect)   Weight: 0.05855\n",
      "Column: 3168 (expecting)   Weight: 0.07005\n",
      "Column: 3192 (exposed)   Weight: 0.10435\n",
      "Column: 3202 (extensive)   Weight: 0.08575\n",
      "Column: 3205 (extra)   Weight: 0.11676\n",
      "Column: 3266 (fancy)   Weight: 0.07432\n",
      "Column: 3432 (flatbread)   Weight: 0.19723\n",
      "Column: 3466 (floors)   Weight: 0.08411\n",
      "Column: 3509 (food)   Weight: 0.02706\n",
      "Column: 3533 (forgive)   Weight: 0.10731\n",
      "Column: 3537 (fork)   Weight: 0.08794\n",
      "Column: 3595 (fresh)   Weight: 0.04916\n",
      "Column: 3610 (friendly)   Weight: 0.04351\n",
      "Column: 3740 (getting)   Weight: 0.05291\n",
      "Column: 3772 (glass)   Weight: 0.06480\n",
      "Column: 3795 (going)   Weight: 0.04151\n",
      "Column: 3803 (good)   Weight: 0.05294\n",
      "Column: 3819 (got)   Weight: 0.03722\n",
      "Column: 3993 (handing)   Weight: 0.10492\n",
      "Column: 4023 (hardly)   Weight: 0.08073\n",
      "Column: 4400 (indicate)   Weight: 0.11637\n",
      "Column: 4471 (instead)   Weight: 0.05631\n",
      "Column: 4596 (jealous)   Weight: 0.11205\n",
      "Column: 4678 (just)   Weight: 0.02915\n",
      "Column: 4725 (kids)   Weight: 0.06219\n",
      "Column: 4746 (kitchen)   Weight: 0.06282\n",
      "Column: 4763 (know)   Weight: 0.04159\n",
      "Column: 4767 (knowledgeable)   Weight: 0.07839\n",
      "Column: 4781 (kudos)   Weight: 0.09666\n",
      "Column: 4819 (large)   Weight: 0.05458\n",
      "Column: 4857 (layer)   Weight: 0.09596\n",
      "Column: 4896 (left)   Weight: 0.05010\n",
      "Column: 4923 (let)   Weight: 0.05256\n",
      "Column: 4961 (like)   Weight: 0.02912\n",
      "Column: 4997 (list)   Weight: 0.06474\n",
      "Column: 5088 (love)   Weight: 0.04284\n",
      "Column: 5091 (lover)   Weight: 0.09156\n",
      "Column: 5188 (making)   Weight: 0.06120\n",
      "Column: 5386 (menu)   Weight: 0.08767\n",
      "Column: 5425 (michigan)   Weight: 0.11940\n",
      "Column: 5654 (nailed)   Weight: 0.11255\n",
      "Column: 5908 (nmoving)   Weight: 0.11671\n",
      "Column: 6051 (nthe)   Weight: 0.03786\n",
      "Column: 6102 (nwe)   Weight: 0.05214\n",
      "Column: 6203 (onion)   Weight: 0.07061\n",
      "Column: 6232 (opt)   Weight: 0.09889\n",
      "Column: 6240 (order)   Weight: 0.04145\n",
      "Column: 6241 (ordered)   Weight: 0.04019\n",
      "Column: 6524 (people)   Weight: 0.07961\n",
      "Column: 6655 (pint)   Weight: 0.09603\n",
      "Column: 6677 (pizza)   Weight: 0.05471\n",
      "Column: 6700 (plate)   Weight: 0.17771\n",
      "Column: 6798 (portion)   Weight: 0.06578\n",
      "Column: 6901 (price)   Weight: 0.04647\n",
      "Column: 6906 (pricey)   Weight: 0.06712\n",
      "Column: 7048 (puree)   Weight: 0.10289\n",
      "Column: 7107 (quite)   Weight: 0.05341\n",
      "Column: 7151 (range)   Weight: 0.07902\n",
      "Column: 7239 (red)   Weight: 0.06043\n",
      "Column: 7634 (sad)   Weight: 0.06989\n",
      "Column: 7651 (salad)   Weight: 0.10118\n",
      "Column: 7732 (saw)   Weight: 0.05838\n",
      "Column: 7733 (say)   Weight: 0.04321\n",
      "Column: 7882 (served)   Weight: 0.05596\n",
      "Column: 7883 (server)   Weight: 0.10539\n",
      "Column: 7886 (service)   Weight: 0.03064\n",
      "Column: 7892 (servings)   Weight: 0.09808\n",
      "Column: 7938 (share)   Weight: 0.07033\n",
      "Column: 8069 (simply)   Weight: 0.06920\n",
      "Column: 8121 (skip)   Weight: 0.08001\n",
      "Column: 8171 (small)   Weight: 0.04729\n",
      "Column: 8172 (smaller)   Weight: 0.07365\n",
      "Column: 8375 (spinach)   Weight: 0.07649\n",
      "Column: 8385 (split)   Weight: 0.07409\n",
      "Column: 8422 (squash)   Weight: 0.19177\n",
      "Column: 8469 (started)   Weight: 0.05830\n",
      "Column: 8690 (sums)   Weight: 0.10713\n",
      "Column: 8797 (tag)   Weight: 0.08898\n",
      "Column: 8988 (thing)   Weight: 0.04663\n",
      "Column: 8991 (think)   Weight: 0.04244\n",
      "Column: 8997 (thirsty)   Weight: 0.10314\n",
      "Column: 9056 (tin)   Weight: 0.10978\n",
      "Column: 9120 (topped)   Weight: 0.07818\n",
      "Column: 9377 (understand)   Weight: 0.06407\n",
      "Column: 9490 (usually)   Weight: 0.05632\n",
      "Column: 9678 (walls)   Weight: 0.07620\n",
      "Column: 9855 (wisconsin)   Weight: 0.10407\n",
      "Column: 9881 (wood)   Weight: 0.08443\n",
      "Column: 9888 (work)   Weight: 0.05090\n"
     ]
    }
   ],
   "execution_count": 12
  },
  {
   "metadata": {},
   "cell_type": "markdown",
   "source": "# Converting datasets into DataLoader",
   "id": "143c9f7b7b11f9f7"
  },
  {
   "metadata": {
    "ExecuteTime": {
     "end_time": "2025-04-12T12:30:23.948493Z",
     "start_time": "2025-04-12T12:30:23.946161Z"
    }
   },
   "cell_type": "code",
   "source": [
    "def make_dataset(sparse_features, labels):\n",
    "    dense_features = sparse_features.astype(np.float32).todense()\n",
    "\n",
    "    dataset = TensorDataset(\n",
    "        torch.from_numpy(dense_features),\n",
    "        torch.tensor(labels, dtype=torch.int64)\n",
    "    )\n",
    "\n",
    "    return dataset"
   ],
   "id": "4aa7378abe414dfe",
   "outputs": [],
   "execution_count": 13
  },
  {
   "metadata": {
    "ExecuteTime": {
     "end_time": "2025-04-12T12:30:24.955640Z",
     "start_time": "2025-04-12T12:30:23.990213Z"
    }
   },
   "cell_type": "code",
   "source": [
    "datasets = {\n",
    "    'train': make_dataset(train_tfidf_features, train_dataset['label']),\n",
    "    'val': make_dataset(val_tfidf_features, val_dataset['label']),\n",
    "    'test': make_dataset(test_tfidf_features, test_dataset['label'])\n",
    "}"
   ],
   "id": "afabebe4d78a6e77",
   "outputs": [],
   "execution_count": 14
  },
  {
   "metadata": {
    "ExecuteTime": {
     "end_time": "2025-04-12T12:30:24.967452Z",
     "start_time": "2025-04-12T12:30:24.964538Z"
    }
   },
   "cell_type": "code",
   "source": [
    "batch_size = 256\n",
    "\n",
    "dataloaders = {split: DataLoader(datasets[split], batch_size=batch_size, shuffle=split=='train', num_workers=0) for split in datasets}"
   ],
   "id": "a5b033d8184145be",
   "outputs": [],
   "execution_count": 15
  },
  {
   "metadata": {},
   "cell_type": "markdown",
   "source": "# Creating instance of ReviewClassifier model",
   "id": "48964f6c1d4e1091"
  },
  {
   "metadata": {
    "ExecuteTime": {
     "end_time": "2025-04-12T12:30:25.141704Z",
     "start_time": "2025-04-12T12:30:25.007038Z"
    }
   },
   "cell_type": "code",
   "source": [
    "use_cuda = torch.cuda.is_available()\n",
    "device = torch.device(\"cuda:0\" if use_cuda else \"cpu\")\n",
    "print(\"Urządzenie: {}\".format(device))"
   ],
   "id": "6318527b1c187782",
   "outputs": [
    {
     "name": "stdout",
     "output_type": "stream",
     "text": [
      "Urządzenie: cuda:0\n"
     ]
    }
   ],
   "execution_count": 16
  },
  {
   "metadata": {
    "ExecuteTime": {
     "end_time": "2025-04-12T12:30:25.358862Z",
     "start_time": "2025-04-12T12:30:25.187668Z"
    }
   },
   "cell_type": "code",
   "source": [
    "classifier = ReviewClassifier(vocab_size, n_classes=5)\n",
    "classifier.to(device)\n",
    "\n",
    "print(classifier)"
   ],
   "id": "9566f5f775d62567",
   "outputs": [
    {
     "name": "stdout",
     "output_type": "stream",
     "text": [
      "ReviewClassifier(\n",
      "  (feature_extractor): Sequential(\n",
      "    (0): Linear(in_features=10000, out_features=64, bias=True)\n",
      "    (1): ReLU()\n",
      "    (2): Linear(in_features=64, out_features=16, bias=True)\n",
      "    (3): ReLU()\n",
      "  )\n",
      "  (dropout): Dropout(p=0.1, inplace=False)\n",
      "  (linear): Linear(in_features=16, out_features=5, bias=True)\n",
      ")\n"
     ]
    }
   ],
   "execution_count": 17
  },
  {
   "metadata": {},
   "cell_type": "markdown",
   "source": "# Training",
   "id": "eaa41426a9784007"
  },
  {
   "metadata": {
    "ExecuteTime": {
     "end_time": "2025-04-12T12:30:25.372183Z",
     "start_time": "2025-04-12T12:30:25.366449Z"
    }
   },
   "cell_type": "code",
   "source": [
    "def train(\n",
    "        model: nn.Module,\n",
    "        loaders: dict[DataLoader],\n",
    "        criterion: nn.Module,\n",
    "        optimizer: torch.optim.Optimizer,\n",
    "        lr_scheduler,\n",
    "        num_epochs: int\n",
    "):\n",
    "\n",
    "    metric_loss = torchmetrics.aggregation.MeanMetric().to(device)\n",
    "    metric_acc = torchmetrics.classification.Accuracy(task=\"multiclass\",num_classes=5).to(device)\n",
    "\n",
    "    for epoch in range(1, num_epochs+1):\n",
    "\n",
    "        for phase in ['train', 'val']:\n",
    "            if phase == 'train':\n",
    "                model.train()\n",
    "            else:\n",
    "                model.eval()\n",
    "\n",
    "            for X_batch, target in tqdm(loaders[phase]):\n",
    "                X_batch, target = X_batch.to(device), target.to(device)\n",
    "\n",
    "                optimizer.zero_grad()\n",
    "\n",
    "                with torch.set_grad_enabled(phase == 'train'):\n",
    "                    logits = model(X_batch)\n",
    "                    _, preds = torch.max(logits, dim=1)\n",
    "\n",
    "                    loss = criterion(logits, target)\n",
    "\n",
    "                    metric_loss(loss)\n",
    "                    metric_acc(preds, target)\n",
    "\n",
    "                    if phase == 'train':\n",
    "                        loss.backward()\n",
    "                        optimizer.step()\n",
    "\n",
    "            acc = metric_acc.compute()\n",
    "            mean_loss = metric_loss.compute()\n",
    "            current_lr = lr_scheduler.get_last_lr()[0]\n",
    "\n",
    "            print(f\"(Epoch {epoch}/[{phase}]) Loss:\\t{mean_loss:.3f}   Accuracy: {acc:.3f}   lr: {current_lr}\")\n",
    "\n",
    "            metrics = {\n",
    "                f\"{phase}/loss\": mean_loss,\n",
    "                f\"{phase}/accuracy\": acc,\n",
    "                f\"{phase}/lr\": current_lr,\n",
    "            }\n",
    "\n",
    "            wandb.log(metrics, step=epoch)\n",
    "\n",
    "            metric_loss.reset()\n",
    "            metric_acc.reset()\n",
    "\n",
    "        lr_scheduler.step()\n"
   ],
   "id": "4b79bcc6de72c9b2",
   "outputs": [],
   "execution_count": 18
  },
  {
   "metadata": {
    "ExecuteTime": {
     "end_time": "2025-04-12T12:31:41.642106Z",
     "start_time": "2025-04-12T12:30:25.410540Z"
    }
   },
   "cell_type": "code",
   "source": [
    "num_epochs = 30\n",
    "\n",
    "criterion = nn.CrossEntropyLoss()\n",
    "optimizer = torch.optim.AdamW(\n",
    "    classifier.parameters(),\n",
    "    lr=1e-4,\n",
    "    weight_decay=1e-5\n",
    ")\n",
    "\n",
    "lr_scheduler = torch.optim.lr_scheduler.CosineAnnealingLR(\n",
    "    optimizer,\n",
    "    T_max=num_epochs,\n",
    "    eta_min=1e-5\n",
    ")\n",
    "\n",
    "run = wandb.init(project=\"Yelp_Review_Rating_Predictor\")\n",
    "train(classifier, dataloaders, criterion, optimizer, lr_scheduler, num_epochs)\n",
    "run.finish()"
   ],
   "id": "70143e60ac17707e",
   "outputs": [
    {
     "data": {
      "text/plain": [
       "<IPython.core.display.HTML object>"
      ],
      "text/html": [
       "Tracking run with wandb version 0.19.9"
      ]
     },
     "metadata": {},
     "output_type": "display_data"
    },
    {
     "data": {
      "text/plain": [
       "<IPython.core.display.HTML object>"
      ],
      "text/html": [
       "Run data is saved locally in <code>/home/dominika/Desktop/New Folder/Yelp-review-rating-predictor/wandb/run-20250412_143025-vxujb4ys</code>"
      ]
     },
     "metadata": {},
     "output_type": "display_data"
    },
    {
     "data": {
      "text/plain": [
       "<IPython.core.display.HTML object>"
      ],
      "text/html": [
       "Syncing run <strong><a href='https://wandb.ai/dominika-boguszewska-stud-warsaw-university-of-technology/Yelp_Review_Rating_Predictor/runs/vxujb4ys' target=\"_blank\">magic-universe-4</a></strong> to <a href='https://wandb.ai/dominika-boguszewska-stud-warsaw-university-of-technology/Yelp_Review_Rating_Predictor' target=\"_blank\">Weights & Biases</a> (<a href='https://wandb.me/developer-guide' target=\"_blank\">docs</a>)<br>"
      ]
     },
     "metadata": {},
     "output_type": "display_data"
    },
    {
     "data": {
      "text/plain": [
       "<IPython.core.display.HTML object>"
      ],
      "text/html": [
       " View project at <a href='https://wandb.ai/dominika-boguszewska-stud-warsaw-university-of-technology/Yelp_Review_Rating_Predictor' target=\"_blank\">https://wandb.ai/dominika-boguszewska-stud-warsaw-university-of-technology/Yelp_Review_Rating_Predictor</a>"
      ]
     },
     "metadata": {},
     "output_type": "display_data"
    },
    {
     "data": {
      "text/plain": [
       "<IPython.core.display.HTML object>"
      ],
      "text/html": [
       " View run at <a href='https://wandb.ai/dominika-boguszewska-stud-warsaw-university-of-technology/Yelp_Review_Rating_Predictor/runs/vxujb4ys' target=\"_blank\">https://wandb.ai/dominika-boguszewska-stud-warsaw-university-of-technology/Yelp_Review_Rating_Predictor/runs/vxujb4ys</a>"
      ]
     },
     "metadata": {},
     "output_type": "display_data"
    },
    {
     "name": "stderr",
     "output_type": "stream",
     "text": [
      "100%|██████████| 305/305 [00:02<00:00, 134.50it/s]\n"
     ]
    },
    {
     "name": "stdout",
     "output_type": "stream",
     "text": [
      "(Epoch 1/[train]) Loss:\t1.610   Accuracy: 0.239   lr: 0.0001\n"
     ]
    },
    {
     "name": "stderr",
     "output_type": "stream",
     "text": [
      "100%|██████████| 51/51 [00:00<00:00, 175.46it/s]\n"
     ]
    },
    {
     "name": "stdout",
     "output_type": "stream",
     "text": [
      "(Epoch 1/[val]) Loss:\t1.590   Accuracy: 0.298   lr: 0.0001\n"
     ]
    },
    {
     "name": "stderr",
     "output_type": "stream",
     "text": [
      "100%|██████████| 305/305 [00:02<00:00, 151.71it/s]\n"
     ]
    },
    {
     "name": "stdout",
     "output_type": "stream",
     "text": [
      "(Epoch 2/[train]) Loss:\t1.550   Accuracy: 0.324   lr: 9.97534852915723e-05\n"
     ]
    },
    {
     "name": "stderr",
     "output_type": "stream",
     "text": [
      "100%|██████████| 51/51 [00:00<00:00, 182.49it/s]\n"
     ]
    },
    {
     "name": "stdout",
     "output_type": "stream",
     "text": [
      "(Epoch 2/[val]) Loss:\t1.500   Accuracy: 0.358   lr: 9.97534852915723e-05\n"
     ]
    },
    {
     "name": "stderr",
     "output_type": "stream",
     "text": [
      "100%|██████████| 305/305 [00:01<00:00, 155.95it/s]\n"
     ]
    },
    {
     "name": "stdout",
     "output_type": "stream",
     "text": [
      "(Epoch 3/[train]) Loss:\t1.433   Accuracy: 0.395   lr: 9.901664203302126e-05\n"
     ]
    },
    {
     "name": "stderr",
     "output_type": "stream",
     "text": [
      "100%|██████████| 51/51 [00:00<00:00, 171.82it/s]\n"
     ]
    },
    {
     "name": "stdout",
     "output_type": "stream",
     "text": [
      "(Epoch 3/[val]) Loss:\t1.366   Accuracy: 0.411   lr: 9.901664203302126e-05\n"
     ]
    },
    {
     "name": "stderr",
     "output_type": "stream",
     "text": [
      "100%|██████████| 305/305 [00:02<00:00, 149.18it/s]\n"
     ]
    },
    {
     "name": "stdout",
     "output_type": "stream",
     "text": [
      "(Epoch 4/[train]) Loss:\t1.305   Accuracy: 0.412   lr: 9.779754323328192e-05\n"
     ]
    },
    {
     "name": "stderr",
     "output_type": "stream",
     "text": [
      "100%|██████████| 51/51 [00:00<00:00, 132.09it/s]\n"
     ]
    },
    {
     "name": "stdout",
     "output_type": "stream",
     "text": [
      "(Epoch 4/[val]) Loss:\t1.251   Accuracy: 0.434   lr: 9.779754323328192e-05\n"
     ]
    },
    {
     "name": "stderr",
     "output_type": "stream",
     "text": [
      "100%|██████████| 305/305 [00:02<00:00, 117.98it/s]\n"
     ]
    },
    {
     "name": "stdout",
     "output_type": "stream",
     "text": [
      "(Epoch 5/[train]) Loss:\t1.211   Accuracy: 0.481   lr: 9.610954559391703e-05\n"
     ]
    },
    {
     "name": "stderr",
     "output_type": "stream",
     "text": [
      "100%|██████████| 51/51 [00:00<00:00, 170.72it/s]\n"
     ]
    },
    {
     "name": "stdout",
     "output_type": "stream",
     "text": [
      "(Epoch 5/[val]) Loss:\t1.175   Accuracy: 0.532   lr: 9.610954559391703e-05\n"
     ]
    },
    {
     "name": "stderr",
     "output_type": "stream",
     "text": [
      "100%|██████████| 305/305 [00:02<00:00, 140.14it/s]\n"
     ]
    },
    {
     "name": "stdout",
     "output_type": "stream",
     "text": [
      "(Epoch 6/[train]) Loss:\t1.148   Accuracy: 0.517   lr: 9.397114317029975e-05\n"
     ]
    },
    {
     "name": "stderr",
     "output_type": "stream",
     "text": [
      "100%|██████████| 51/51 [00:00<00:00, 171.89it/s]\n"
     ]
    },
    {
     "name": "stdout",
     "output_type": "stream",
     "text": [
      "(Epoch 6/[val]) Loss:\t1.122   Accuracy: 0.541   lr: 9.397114317029975e-05\n"
     ]
    },
    {
     "name": "stderr",
     "output_type": "stream",
     "text": [
      "100%|██████████| 305/305 [00:02<00:00, 152.04it/s]\n"
     ]
    },
    {
     "name": "stdout",
     "output_type": "stream",
     "text": [
      "(Epoch 7/[train]) Loss:\t1.097   Accuracy: 0.533   lr: 9.140576474687265e-05\n"
     ]
    },
    {
     "name": "stderr",
     "output_type": "stream",
     "text": [
      "100%|██████████| 51/51 [00:00<00:00, 172.60it/s]\n"
     ]
    },
    {
     "name": "stdout",
     "output_type": "stream",
     "text": [
      "(Epoch 7/[val]) Loss:\t1.080   Accuracy: 0.546   lr: 9.140576474687265e-05\n"
     ]
    },
    {
     "name": "stderr",
     "output_type": "stream",
     "text": [
      "100%|██████████| 305/305 [00:02<00:00, 141.31it/s]\n"
     ]
    },
    {
     "name": "stdout",
     "output_type": "stream",
     "text": [
      "(Epoch 8/[train]) Loss:\t1.059   Accuracy: 0.541   lr: 8.844151714648274e-05\n"
     ]
    },
    {
     "name": "stderr",
     "output_type": "stream",
     "text": [
      "100%|██████████| 51/51 [00:00<00:00, 131.80it/s]\n"
     ]
    },
    {
     "name": "stdout",
     "output_type": "stream",
     "text": [
      "(Epoch 8/[val]) Loss:\t1.050   Accuracy: 0.552   lr: 8.844151714648274e-05\n"
     ]
    },
    {
     "name": "stderr",
     "output_type": "stream",
     "text": [
      "100%|██████████| 305/305 [00:02<00:00, 121.15it/s]\n"
     ]
    },
    {
     "name": "stdout",
     "output_type": "stream",
     "text": [
      "(Epoch 9/[train]) Loss:\t1.030   Accuracy: 0.550   lr: 8.511087728614862e-05\n"
     ]
    },
    {
     "name": "stderr",
     "output_type": "stream",
     "text": [
      "100%|██████████| 51/51 [00:00<00:00, 172.10it/s]\n"
     ]
    },
    {
     "name": "stdout",
     "output_type": "stream",
     "text": [
      "(Epoch 9/[val]) Loss:\t1.030   Accuracy: 0.554   lr: 8.511087728614862e-05\n"
     ]
    },
    {
     "name": "stderr",
     "output_type": "stream",
     "text": [
      "100%|██████████| 305/305 [00:02<00:00, 148.32it/s]\n"
     ]
    },
    {
     "name": "stdout",
     "output_type": "stream",
     "text": [
      "(Epoch 10/[train]) Loss:\t1.007   Accuracy: 0.559   lr: 8.14503363531613e-05\n"
     ]
    },
    {
     "name": "stderr",
     "output_type": "stream",
     "text": [
      "100%|██████████| 51/51 [00:00<00:00, 176.41it/s]\n"
     ]
    },
    {
     "name": "stdout",
     "output_type": "stream",
     "text": [
      "(Epoch 10/[val]) Loss:\t1.017   Accuracy: 0.557   lr: 8.14503363531613e-05\n"
     ]
    },
    {
     "name": "stderr",
     "output_type": "stream",
     "text": [
      "100%|██████████| 305/305 [00:01<00:00, 152.74it/s]\n"
     ]
    },
    {
     "name": "stdout",
     "output_type": "stream",
     "text": [
      "(Epoch 11/[train]) Loss:\t0.990   Accuracy: 0.565   lr: 7.75e-05\n"
     ]
    },
    {
     "name": "stderr",
     "output_type": "stream",
     "text": [
      "100%|██████████| 51/51 [00:00<00:00, 167.98it/s]\n"
     ]
    },
    {
     "name": "stdout",
     "output_type": "stream",
     "text": [
      "(Epoch 11/[val]) Loss:\t1.008   Accuracy: 0.558   lr: 7.75e-05\n"
     ]
    },
    {
     "name": "stderr",
     "output_type": "stream",
     "text": [
      "100%|██████████| 305/305 [00:02<00:00, 137.36it/s]\n"
     ]
    },
    {
     "name": "stdout",
     "output_type": "stream",
     "text": [
      "(Epoch 12/[train]) Loss:\t0.977   Accuracy: 0.571   lr: 7.330314893841101e-05\n"
     ]
    },
    {
     "name": "stderr",
     "output_type": "stream",
     "text": [
      "100%|██████████| 51/51 [00:00<00:00, 174.77it/s]\n"
     ]
    },
    {
     "name": "stdout",
     "output_type": "stream",
     "text": [
      "(Epoch 12/[val]) Loss:\t1.003   Accuracy: 0.559   lr: 7.330314893841101e-05\n"
     ]
    },
    {
     "name": "stderr",
     "output_type": "stream",
     "text": [
      "100%|██████████| 305/305 [00:02<00:00, 149.98it/s]\n"
     ]
    },
    {
     "name": "stdout",
     "output_type": "stream",
     "text": [
      "(Epoch 13/[train]) Loss:\t0.966   Accuracy: 0.576   lr: 6.890576474687264e-05\n"
     ]
    },
    {
     "name": "stderr",
     "output_type": "stream",
     "text": [
      "100%|██████████| 51/51 [00:00<00:00, 174.32it/s]\n"
     ]
    },
    {
     "name": "stdout",
     "output_type": "stream",
     "text": [
      "(Epoch 13/[val]) Loss:\t0.999   Accuracy: 0.560   lr: 6.890576474687264e-05\n"
     ]
    },
    {
     "name": "stderr",
     "output_type": "stream",
     "text": [
      "100%|██████████| 305/305 [00:02<00:00, 149.00it/s]\n"
     ]
    },
    {
     "name": "stdout",
     "output_type": "stream",
     "text": [
      "(Epoch 14/[train]) Loss:\t0.957   Accuracy: 0.579   lr: 6.435602608679918e-05\n"
     ]
    },
    {
     "name": "stderr",
     "output_type": "stream",
     "text": [
      "100%|██████████| 51/51 [00:00<00:00, 173.94it/s]\n"
     ]
    },
    {
     "name": "stdout",
     "output_type": "stream",
     "text": [
      "(Epoch 14/[val]) Loss:\t0.996   Accuracy: 0.561   lr: 6.435602608679918e-05\n"
     ]
    },
    {
     "name": "stderr",
     "output_type": "stream",
     "text": [
      "100%|██████████| 305/305 [00:01<00:00, 153.89it/s]\n"
     ]
    },
    {
     "name": "stdout",
     "output_type": "stream",
     "text": [
      "(Epoch 15/[train]) Loss:\t0.950   Accuracy: 0.584   lr: 5.970378084704442e-05\n"
     ]
    },
    {
     "name": "stderr",
     "output_type": "stream",
     "text": [
      "100%|██████████| 51/51 [00:00<00:00, 176.60it/s]\n"
     ]
    },
    {
     "name": "stdout",
     "output_type": "stream",
     "text": [
      "(Epoch 15/[val]) Loss:\t0.994   Accuracy: 0.561   lr: 5.970378084704442e-05\n"
     ]
    },
    {
     "name": "stderr",
     "output_type": "stream",
     "text": [
      "100%|██████████| 305/305 [00:02<00:00, 148.16it/s]\n"
     ]
    },
    {
     "name": "stdout",
     "output_type": "stream",
     "text": [
      "(Epoch 16/[train]) Loss:\t0.943   Accuracy: 0.587   lr: 5.500000000000002e-05\n"
     ]
    },
    {
     "name": "stderr",
     "output_type": "stream",
     "text": [
      "100%|██████████| 51/51 [00:00<00:00, 154.14it/s]\n"
     ]
    },
    {
     "name": "stdout",
     "output_type": "stream",
     "text": [
      "(Epoch 16/[val]) Loss:\t0.993   Accuracy: 0.562   lr: 5.500000000000002e-05\n"
     ]
    },
    {
     "name": "stderr",
     "output_type": "stream",
     "text": [
      "100%|██████████| 305/305 [00:02<00:00, 119.99it/s]\n"
     ]
    },
    {
     "name": "stdout",
     "output_type": "stream",
     "text": [
      "(Epoch 17/[train]) Loss:\t0.939   Accuracy: 0.590   lr: 5.029621915295561e-05\n"
     ]
    },
    {
     "name": "stderr",
     "output_type": "stream",
     "text": [
      "100%|██████████| 51/51 [00:00<00:00, 124.93it/s]\n"
     ]
    },
    {
     "name": "stdout",
     "output_type": "stream",
     "text": [
      "(Epoch 17/[val]) Loss:\t0.992   Accuracy: 0.562   lr: 5.029621915295561e-05\n"
     ]
    },
    {
     "name": "stderr",
     "output_type": "stream",
     "text": [
      "100%|██████████| 305/305 [00:02<00:00, 149.46it/s]\n"
     ]
    },
    {
     "name": "stdout",
     "output_type": "stream",
     "text": [
      "(Epoch 18/[train]) Loss:\t0.934   Accuracy: 0.592   lr: 4.5643973913200835e-05\n"
     ]
    },
    {
     "name": "stderr",
     "output_type": "stream",
     "text": [
      "100%|██████████| 51/51 [00:00<00:00, 110.63it/s]\n"
     ]
    },
    {
     "name": "stdout",
     "output_type": "stream",
     "text": [
      "(Epoch 18/[val]) Loss:\t0.992   Accuracy: 0.562   lr: 4.5643973913200835e-05\n"
     ]
    },
    {
     "name": "stderr",
     "output_type": "stream",
     "text": [
      "100%|██████████| 305/305 [00:02<00:00, 147.48it/s]\n"
     ]
    },
    {
     "name": "stdout",
     "output_type": "stream",
     "text": [
      "(Epoch 19/[train]) Loss:\t0.930   Accuracy: 0.593   lr: 4.109423525312738e-05\n"
     ]
    },
    {
     "name": "stderr",
     "output_type": "stream",
     "text": [
      "100%|██████████| 51/51 [00:00<00:00, 175.19it/s]\n"
     ]
    },
    {
     "name": "stdout",
     "output_type": "stream",
     "text": [
      "(Epoch 19/[val]) Loss:\t0.992   Accuracy: 0.562   lr: 4.109423525312738e-05\n"
     ]
    },
    {
     "name": "stderr",
     "output_type": "stream",
     "text": [
      "100%|██████████| 305/305 [00:02<00:00, 147.00it/s]\n"
     ]
    },
    {
     "name": "stdout",
     "output_type": "stream",
     "text": [
      "(Epoch 20/[train]) Loss:\t0.928   Accuracy: 0.595   lr: 3.669685106158901e-05\n"
     ]
    },
    {
     "name": "stderr",
     "output_type": "stream",
     "text": [
      "100%|██████████| 51/51 [00:00<00:00, 127.90it/s]\n"
     ]
    },
    {
     "name": "stdout",
     "output_type": "stream",
     "text": [
      "(Epoch 20/[val]) Loss:\t0.992   Accuracy: 0.562   lr: 3.669685106158901e-05\n"
     ]
    },
    {
     "name": "stderr",
     "output_type": "stream",
     "text": [
      "100%|██████████| 305/305 [00:02<00:00, 118.95it/s]\n"
     ]
    },
    {
     "name": "stdout",
     "output_type": "stream",
     "text": [
      "(Epoch 21/[train]) Loss:\t0.923   Accuracy: 0.598   lr: 3.250000000000002e-05\n"
     ]
    },
    {
     "name": "stderr",
     "output_type": "stream",
     "text": [
      "100%|██████████| 51/51 [00:00<00:00, 164.44it/s]\n"
     ]
    },
    {
     "name": "stdout",
     "output_type": "stream",
     "text": [
      "(Epoch 21/[val]) Loss:\t0.992   Accuracy: 0.562   lr: 3.250000000000002e-05\n"
     ]
    },
    {
     "name": "stderr",
     "output_type": "stream",
     "text": [
      "100%|██████████| 305/305 [00:02<00:00, 151.33it/s]\n"
     ]
    },
    {
     "name": "stdout",
     "output_type": "stream",
     "text": [
      "(Epoch 22/[train]) Loss:\t0.921   Accuracy: 0.599   lr: 2.8549663646838724e-05\n"
     ]
    },
    {
     "name": "stderr",
     "output_type": "stream",
     "text": [
      "100%|██████████| 51/51 [00:00<00:00, 177.20it/s]\n"
     ]
    },
    {
     "name": "stdout",
     "output_type": "stream",
     "text": [
      "(Epoch 22/[val]) Loss:\t0.992   Accuracy: 0.561   lr: 2.8549663646838724e-05\n"
     ]
    },
    {
     "name": "stderr",
     "output_type": "stream",
     "text": [
      "100%|██████████| 305/305 [00:02<00:00, 150.86it/s]\n"
     ]
    },
    {
     "name": "stdout",
     "output_type": "stream",
     "text": [
      "(Epoch 23/[train]) Loss:\t0.919   Accuracy: 0.599   lr: 2.4889122713851404e-05\n"
     ]
    },
    {
     "name": "stderr",
     "output_type": "stream",
     "text": [
      "100%|██████████| 51/51 [00:00<00:00, 178.27it/s]\n"
     ]
    },
    {
     "name": "stdout",
     "output_type": "stream",
     "text": [
      "(Epoch 23/[val]) Loss:\t0.992   Accuracy: 0.562   lr: 2.4889122713851404e-05\n"
     ]
    },
    {
     "name": "stderr",
     "output_type": "stream",
     "text": [
      "100%|██████████| 305/305 [00:02<00:00, 149.04it/s]\n"
     ]
    },
    {
     "name": "stdout",
     "output_type": "stream",
     "text": [
      "(Epoch 24/[train]) Loss:\t0.918   Accuracy: 0.601   lr: 2.1558482853517277e-05\n"
     ]
    },
    {
     "name": "stderr",
     "output_type": "stream",
     "text": [
      "100%|██████████| 51/51 [00:00<00:00, 160.69it/s]\n"
     ]
    },
    {
     "name": "stdout",
     "output_type": "stream",
     "text": [
      "(Epoch 24/[val]) Loss:\t0.992   Accuracy: 0.562   lr: 2.1558482853517277e-05\n"
     ]
    },
    {
     "name": "stderr",
     "output_type": "stream",
     "text": [
      "100%|██████████| 305/305 [00:02<00:00, 137.72it/s]\n"
     ]
    },
    {
     "name": "stdout",
     "output_type": "stream",
     "text": [
      "(Epoch 25/[train]) Loss:\t0.917   Accuracy: 0.601   lr: 1.8594235253127375e-05\n"
     ]
    },
    {
     "name": "stderr",
     "output_type": "stream",
     "text": [
      "100%|██████████| 51/51 [00:00<00:00, 180.69it/s]\n"
     ]
    },
    {
     "name": "stdout",
     "output_type": "stream",
     "text": [
      "(Epoch 25/[val]) Loss:\t0.992   Accuracy: 0.561   lr: 1.8594235253127375e-05\n"
     ]
    },
    {
     "name": "stderr",
     "output_type": "stream",
     "text": [
      "100%|██████████| 305/305 [00:02<00:00, 149.99it/s]\n"
     ]
    },
    {
     "name": "stdout",
     "output_type": "stream",
     "text": [
      "(Epoch 26/[train]) Loss:\t0.914   Accuracy: 0.601   lr: 1.6028856829700262e-05\n"
     ]
    },
    {
     "name": "stderr",
     "output_type": "stream",
     "text": [
      "100%|██████████| 51/51 [00:00<00:00, 174.51it/s]\n"
     ]
    },
    {
     "name": "stdout",
     "output_type": "stream",
     "text": [
      "(Epoch 26/[val]) Loss:\t0.992   Accuracy: 0.562   lr: 1.6028856829700262e-05\n"
     ]
    },
    {
     "name": "stderr",
     "output_type": "stream",
     "text": [
      "100%|██████████| 305/305 [00:02<00:00, 151.32it/s]\n"
     ]
    },
    {
     "name": "stdout",
     "output_type": "stream",
     "text": [
      "(Epoch 27/[train]) Loss:\t0.914   Accuracy: 0.603   lr: 1.389045440608296e-05\n"
     ]
    },
    {
     "name": "stderr",
     "output_type": "stream",
     "text": [
      "100%|██████████| 51/51 [00:00<00:00, 177.62it/s]\n"
     ]
    },
    {
     "name": "stdout",
     "output_type": "stream",
     "text": [
      "(Epoch 27/[val]) Loss:\t0.992   Accuracy: 0.561   lr: 1.389045440608296e-05\n"
     ]
    },
    {
     "name": "stderr",
     "output_type": "stream",
     "text": [
      "100%|██████████| 305/305 [00:02<00:00, 149.77it/s]\n"
     ]
    },
    {
     "name": "stdout",
     "output_type": "stream",
     "text": [
      "(Epoch 28/[train]) Loss:\t0.912   Accuracy: 0.603   lr: 1.2202456766718093e-05\n"
     ]
    },
    {
     "name": "stderr",
     "output_type": "stream",
     "text": [
      "100%|██████████| 51/51 [00:00<00:00, 174.98it/s]\n"
     ]
    },
    {
     "name": "stdout",
     "output_type": "stream",
     "text": [
      "(Epoch 28/[val]) Loss:\t0.993   Accuracy: 0.561   lr: 1.2202456766718093e-05\n"
     ]
    },
    {
     "name": "stderr",
     "output_type": "stream",
     "text": [
      "100%|██████████| 305/305 [00:02<00:00, 121.33it/s]\n"
     ]
    },
    {
     "name": "stdout",
     "output_type": "stream",
     "text": [
      "(Epoch 29/[train]) Loss:\t0.913   Accuracy: 0.603   lr: 1.0983357966978745e-05\n"
     ]
    },
    {
     "name": "stderr",
     "output_type": "stream",
     "text": [
      "100%|██████████| 51/51 [00:00<00:00, 135.68it/s]\n"
     ]
    },
    {
     "name": "stdout",
     "output_type": "stream",
     "text": [
      "(Epoch 29/[val]) Loss:\t0.993   Accuracy: 0.561   lr: 1.0983357966978745e-05\n"
     ]
    },
    {
     "name": "stderr",
     "output_type": "stream",
     "text": [
      "100%|██████████| 305/305 [00:02<00:00, 145.67it/s]\n"
     ]
    },
    {
     "name": "stdout",
     "output_type": "stream",
     "text": [
      "(Epoch 30/[train]) Loss:\t0.912   Accuracy: 0.603   lr: 1.0246514708427697e-05\n"
     ]
    },
    {
     "name": "stderr",
     "output_type": "stream",
     "text": [
      "100%|██████████| 51/51 [00:00<00:00, 177.77it/s]"
     ]
    },
    {
     "name": "stdout",
     "output_type": "stream",
     "text": [
      "(Epoch 30/[val]) Loss:\t0.993   Accuracy: 0.561   lr: 1.0246514708427697e-05\n"
     ]
    },
    {
     "name": "stderr",
     "output_type": "stream",
     "text": [
      "\n"
     ]
    },
    {
     "data": {
      "text/plain": [
       "<IPython.core.display.HTML object>"
      ],
      "text/html": []
     },
     "metadata": {},
     "output_type": "display_data"
    },
    {
     "data": {
      "text/plain": [
       "<IPython.core.display.HTML object>"
      ],
      "text/html": [
       "<br>    <style><br>        .wandb-row {<br>            display: flex;<br>            flex-direction: row;<br>            flex-wrap: wrap;<br>            justify-content: flex-start;<br>            width: 100%;<br>        }<br>        .wandb-col {<br>            display: flex;<br>            flex-direction: column;<br>            flex-basis: 100%;<br>            flex: 1;<br>            padding: 10px;<br>        }<br>    </style><br><div class=\"wandb-row\"><div class=\"wandb-col\"><h3>Run history:</h3><br/><table class=\"wandb\"><tr><td>train/accuracy</td><td>▁▃▄▄▆▆▇▇▇▇▇▇▇█████████████████</td></tr><tr><td>train/loss</td><td>█▇▆▅▄▃▃▂▂▂▂▂▂▁▁▁▁▁▁▁▁▁▁▁▁▁▁▁▁▁</td></tr><tr><td>train/lr</td><td>██████▇▇▇▇▆▆▆▅▅▄▄▄▃▃▃▂▂▂▂▁▁▁▁▁</td></tr><tr><td>val/accuracy</td><td>▁▃▄▅▇▇████████████████████████</td></tr><tr><td>val/loss</td><td>█▇▅▄▃▃▂▂▁▁▁▁▁▁▁▁▁▁▁▁▁▁▁▁▁▁▁▁▁▁</td></tr><tr><td>val/lr</td><td>██████▇▇▇▇▆▆▆▅▅▄▄▄▃▃▃▂▂▂▂▁▁▁▁▁</td></tr></table><br/></div><div class=\"wandb-col\"><h3>Run summary:</h3><br/><table class=\"wandb\"><tr><td>train/accuracy</td><td>0.6031</td></tr><tr><td>train/loss</td><td>0.91191</td></tr><tr><td>train/lr</td><td>1e-05</td></tr><tr><td>val/accuracy</td><td>0.56108</td></tr><tr><td>val/loss</td><td>0.99282</td></tr><tr><td>val/lr</td><td>1e-05</td></tr></table><br/></div></div>"
      ]
     },
     "metadata": {},
     "output_type": "display_data"
    },
    {
     "data": {
      "text/plain": [
       "<IPython.core.display.HTML object>"
      ],
      "text/html": [
       " View run <strong style=\"color:#cdcd00\">magic-universe-4</strong> at: <a href='https://wandb.ai/dominika-boguszewska-stud-warsaw-university-of-technology/Yelp_Review_Rating_Predictor/runs/vxujb4ys' target=\"_blank\">https://wandb.ai/dominika-boguszewska-stud-warsaw-university-of-technology/Yelp_Review_Rating_Predictor/runs/vxujb4ys</a><br> View project at: <a href='https://wandb.ai/dominika-boguszewska-stud-warsaw-university-of-technology/Yelp_Review_Rating_Predictor' target=\"_blank\">https://wandb.ai/dominika-boguszewska-stud-warsaw-university-of-technology/Yelp_Review_Rating_Predictor</a><br>Synced 5 W&B file(s), 0 media file(s), 0 artifact file(s) and 0 other file(s)"
      ]
     },
     "metadata": {},
     "output_type": "display_data"
    },
    {
     "data": {
      "text/plain": [
       "<IPython.core.display.HTML object>"
      ],
      "text/html": [
       "Find logs at: <code>./wandb/run-20250412_143025-vxujb4ys/logs</code>"
      ]
     },
     "metadata": {},
     "output_type": "display_data"
    }
   ],
   "execution_count": 19
  },
  {
   "metadata": {},
   "cell_type": "markdown",
   "source": "# Model evaluation",
   "id": "9cd0171b6950f6a7"
  },
  {
   "metadata": {},
   "cell_type": "markdown",
   "source": "## Getting predictions",
   "id": "16d708877f0417dd"
  },
  {
   "metadata": {
    "ExecuteTime": {
     "end_time": "2025-04-12T12:31:42.043681Z",
     "start_time": "2025-04-12T12:31:41.689771Z"
    }
   },
   "cell_type": "code",
   "source": [
    "preds_l = []\n",
    "targets_l = []\n",
    "\n",
    "classifier.eval()\n",
    "\n",
    "for X_batch, target in tqdm(dataloaders['test']):\n",
    "    # Przenieś dane na odpowiednie urządzenie\n",
    "    X_batch, target = X_batch.to(device), target.to(device)\n",
    "\n",
    "    # Przejście w przód (forward)\n",
    "    # Śledzenie historii obliczeń tylko w fazie trenowania\n",
    "    with torch.inference_mode():\n",
    "        logits = classifier(X_batch)\n",
    "        _, preds = torch.max(logits, dim=-1)\n",
    "        preds_l.extend(preds.cpu().numpy())\n",
    "        targets_l.extend(target.cpu().numpy())\n",
    "\n",
    "preds = np.array(preds_l)\n",
    "targets = np.array(targets_l)\n",
    "\n",
    "print(f\"{preds.shape=}\")\n",
    "print(f\"{targets.shape=}\")"
   ],
   "id": "3017df35c2c62b89",
   "outputs": [
    {
     "name": "stderr",
     "output_type": "stream",
     "text": [
      "100%|██████████| 79/79 [00:00<00:00, 228.66it/s]"
     ]
    },
    {
     "name": "stdout",
     "output_type": "stream",
     "text": [
      "preds.shape=(20000,)\n",
      "targets.shape=(20000,)\n"
     ]
    },
    {
     "name": "stderr",
     "output_type": "stream",
     "text": [
      "\n"
     ]
    }
   ],
   "execution_count": 20
  },
  {
   "metadata": {},
   "cell_type": "markdown",
   "source": "## Calculating metrics",
   "id": "3022a834f3b19b93"
  },
  {
   "metadata": {
    "ExecuteTime": {
     "end_time": "2025-04-12T12:31:42.061017Z",
     "start_time": "2025-04-12T12:31:42.049246Z"
    }
   },
   "cell_type": "code",
   "source": [
    "labels = ['0', '1', '2', '3', '4']\n",
    "\n",
    "report = classification_report(targets, preds, target_names = labels)\n",
    "print(report)"
   ],
   "id": "e02b9a74c71e6565",
   "outputs": [
    {
     "name": "stdout",
     "output_type": "stream",
     "text": [
      "              precision    recall  f1-score   support\n",
      "\n",
      "           0       0.68      0.75      0.71      3891\n",
      "           1       0.50      0.49      0.49      3975\n",
      "           2       0.48      0.42      0.45      4102\n",
      "           3       0.49      0.48      0.48      4026\n",
      "           4       0.65      0.69      0.67      4006\n",
      "\n",
      "    accuracy                           0.56     20000\n",
      "   macro avg       0.56      0.57      0.56     20000\n",
      "weighted avg       0.56      0.56      0.56     20000\n",
      "\n"
     ]
    }
   ],
   "execution_count": 21
  },
  {
   "metadata": {},
   "cell_type": "markdown",
   "source": "## Calculating confusion matrix",
   "id": "7e5dc70e4a224c81"
  },
  {
   "metadata": {
    "ExecuteTime": {
     "end_time": "2025-04-12T12:31:42.236425Z",
     "start_time": "2025-04-12T12:31:42.112204Z"
    }
   },
   "cell_type": "code",
   "source": [
    "cm = confusion_matrix(targets, preds)\n",
    "\n",
    "# Create a heatmap\n",
    "plt.figure(figsize=(5, 4))\n",
    "sns.heatmap(cm, annot=True, fmt='d', cmap='Blues', xticklabels=labels, yticklabels=labels)\n",
    "plt.title('Macierz pomyłek')\n",
    "plt.xlabel('Predykowana klasa')\n",
    "plt.ylabel('Prawdziwa klasa')\n",
    "plt.show()"
   ],
   "id": "603ec6cd71b7c93b",
   "outputs": [
    {
     "data": {
      "text/plain": [
       "<Figure size 500x400 with 2 Axes>"
      ],
      "image/png": "[encoded data removed]"
     },
     "metadata": {},
     "output_type": "display_data"
    }
   ],
   "execution_count": 22
  },
  {
   "metadata": {
    "ExecuteTime": {
     "end_time": "2025-04-12T12:31:42.252522Z",
     "start_time": "2025-04-12T12:31:42.250997Z"
    }
   },
   "cell_type": "code",
   "source": "",
   "id": "12dd24a5b23c6116",
   "outputs": [],
   "execution_count": null
  }
 ],
 "metadata": {
  "kernelspec": {
   "display_name": "Python 3",
   "language": "python",
   "name": "python3"
  },
  "language_info": {
   "codemirror_mode": {
    "name": "ipython",
    "version": 2
   },
   "file_extension": ".py",
   "mimetype": "text/x-python",
   "name": "python",
   "nbconvert_exporter": "python",
   "pygments_lexer": "ipython2",
   "version": "2.7.6"
  }
 },
 "nbformat": 4,
 "nbformat_minor": 5
}
