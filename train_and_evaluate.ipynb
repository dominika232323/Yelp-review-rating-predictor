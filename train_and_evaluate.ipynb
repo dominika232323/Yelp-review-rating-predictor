{
 "cells": [
  {
   "metadata": {},
   "cell_type": "markdown",
   "source": "# Required imports",
   "id": "527ba8e63b8e32f"
  },
  {
   "metadata": {
    "ExecuteTime": {
     "end_time": "2025-04-12T11:23:42.655506Z",
     "start_time": "2025-04-12T11:23:38.135665Z"
    }
   },
   "cell_type": "code",
   "source": [
    "import torch\n",
    "import torchmetrics\n",
    "import wandb\n",
    "\n",
    "import torch.nn as nn\n",
    "import numpy as np\n",
    "import pandas as pd\n",
    "import seaborn as sns\n",
    "import matplotlib.pyplot as plt\n",
    "\n",
    "from datasets import load_dataset\n",
    "from torch.utils.data import TensorDataset, DataLoader\n",
    "from sklearn.feature_extraction.text import TfidfVectorizer\n",
    "from sklearn.metrics import classification_report\n",
    "from sklearn.metrics import confusion_matrix\n",
    "from sklearn.metrics import accuracy_score\n",
    "from tqdm import tqdm\n",
    "\n",
    "from review_classifier import ReviewClassifier"
   ],
   "id": "4eb97905f8e2b4dc",
   "outputs": [],
   "execution_count": 1
  },
  {
   "metadata": {},
   "cell_type": "markdown",
   "source": "# Logging into Weights&Biases",
   "id": "65c800d09f3ef0ae"
  },
  {
   "metadata": {
    "ExecuteTime": {
     "end_time": "2025-04-12T11:23:43.535948Z",
     "start_time": "2025-04-12T11:23:42.676368Z"
    }
   },
   "cell_type": "code",
   "source": "wandb.login()",
   "id": "56548377b1a28120",
   "outputs": [
    {
     "name": "stderr",
     "output_type": "stream",
     "text": [
      "\u001B[34m\u001B[1mwandb\u001B[0m: Using wandb-core as the SDK backend.  Please refer to https://wandb.me/wandb-core for more information.\n",
      "\u001B[34m\u001B[1mwandb\u001B[0m: Currently logged in as: \u001B[33mdominika-boguszewska-stud\u001B[0m (\u001B[33mdominika-boguszewska-stud-warsaw-university-of-technology\u001B[0m) to \u001B[32mhttps://api.wandb.ai\u001B[0m. Use \u001B[1m`wandb login --relogin`\u001B[0m to force relogin\n"
     ]
    },
    {
     "data": {
      "text/plain": [
       "True"
      ]
     },
     "execution_count": 2,
     "metadata": {},
     "output_type": "execute_result"
    }
   ],
   "execution_count": 2
  },
  {
   "metadata": {},
   "cell_type": "markdown",
   "source": "# Loading data",
   "id": "707f36a2dc17c0b0"
  },
  {
   "metadata": {
    "ExecuteTime": {
     "end_time": "2025-04-12T11:23:48.196377Z",
     "start_time": "2025-04-12T11:23:43.621309Z"
    }
   },
   "cell_type": "code",
   "source": "dataset = load_dataset(\"Yelp/yelp_review_full\")",
   "id": "38763960adbee110",
   "outputs": [],
   "execution_count": 3
  },
  {
   "metadata": {
    "ExecuteTime": {
     "end_time": "2025-04-12T11:23:48.206842Z",
     "start_time": "2025-04-12T11:23:48.203950Z"
    }
   },
   "cell_type": "code",
   "source": "dataset",
   "id": "4d66142255d7a484",
   "outputs": [
    {
     "data": {
      "text/plain": [
       "DatasetDict({\n",
       "    train: Dataset({\n",
       "        features: ['label', 'text'],\n",
       "        num_rows: 650000\n",
       "    })\n",
       "    test: Dataset({\n",
       "        features: ['label', 'text'],\n",
       "        num_rows: 50000\n",
       "    })\n",
       "})"
      ]
     },
     "execution_count": 4,
     "metadata": {},
     "output_type": "execute_result"
    }
   ],
   "execution_count": 4
  },
  {
   "metadata": {},
   "cell_type": "markdown",
   "source": "## Splitting data into training, validation and testing datasets",
   "id": "cdab0272ab70da2b"
  },
  {
   "metadata": {
    "ExecuteTime": {
     "end_time": "2025-04-12T11:23:48.382241Z",
     "start_time": "2025-04-12T11:23:48.251651Z"
    }
   },
   "cell_type": "code",
   "source": [
    "test_dataset = dataset[\"test\"]\n",
    "\n",
    "split_dataset = dataset[\"train\"].train_test_split(test_size=0.2)\n",
    "train_dataset = split_dataset[\"train\"]\n",
    "val_dataset = split_dataset[\"test\"]"
   ],
   "id": "692f962f99c6d1d0",
   "outputs": [],
   "execution_count": 5
  },
  {
   "metadata": {
    "ExecuteTime": {
     "end_time": "2025-04-12T11:23:48.391467Z",
     "start_time": "2025-04-12T11:23:48.388743Z"
    }
   },
   "cell_type": "code",
   "source": [
    "print(train_dataset)\n",
    "print(val_dataset)\n",
    "print(test_dataset)"
   ],
   "id": "f599e54a36bea489",
   "outputs": [
    {
     "name": "stdout",
     "output_type": "stream",
     "text": [
      "Dataset({\n",
      "    features: ['label', 'text'],\n",
      "    num_rows: 520000\n",
      "})\n",
      "Dataset({\n",
      "    features: ['label', 'text'],\n",
      "    num_rows: 130000\n",
      "})\n",
      "Dataset({\n",
      "    features: ['label', 'text'],\n",
      "    num_rows: 50000\n",
      "})\n"
     ]
    }
   ],
   "execution_count": 6
  },
  {
   "metadata": {
    "ExecuteTime": {
     "end_time": "2025-04-12T11:23:48.440028Z",
     "start_time": "2025-04-12T11:23:48.437011Z"
    }
   },
   "cell_type": "code",
   "source": "print(train_dataset[0])",
   "id": "7dfed5365a9bad37",
   "outputs": [
    {
     "name": "stdout",
     "output_type": "stream",
     "text": [
      "{'label': 0, 'text': \"Have eaten at a few Brazilian grills in the pat from Albuquerque to Washington DC.  Pampas was definitely not the best. The service was average, but the cleanliness of the restaurant was very poor.  The floor seemed like an oil slick and the walls were splattered with food and drink. Wouldn't recommend.  Disappointment.\"}\n"
     ]
    }
   ],
   "execution_count": 7
  },
  {
   "metadata": {},
   "cell_type": "markdown",
   "source": "## Creating smaller subsets",
   "id": "8fd434e2e4e2180b"
  },
  {
   "metadata": {
    "ExecuteTime": {
     "end_time": "2025-04-12T11:23:48.630998Z",
     "start_time": "2025-04-12T11:23:48.489016Z"
    }
   },
   "cell_type": "code",
   "source": [
    "train_dataset = train_dataset.shuffle().select(range(int(len(train_dataset) * .15)))\n",
    "val_dataset = val_dataset.shuffle().select(range(int(len(val_dataset) * .1)))\n",
    "test_dataset = test_dataset.shuffle().select(range(int(len(test_dataset) * .4)))\n",
    "\n",
    "print(f\"Number of samples in training set: {len(train_dataset)}\")\n",
    "print(f\"Number of samples in validation set: {len(val_dataset)}\")\n",
    "print(f\"Number of samples in testing set: {len(test_dataset)}\")"
   ],
   "id": "5486fcec594d944",
   "outputs": [
    {
     "name": "stdout",
     "output_type": "stream",
     "text": [
      "Number of samples in training set: 78000\n",
      "Number of samples in validation set: 13000\n",
      "Number of samples in testing set: 20000\n"
     ]
    }
   ],
   "execution_count": 8
  },
  {
   "metadata": {},
   "cell_type": "markdown",
   "source": "## Histogram of labels in training dataset",
   "id": "ead495dde4ab87e1"
  },
  {
   "metadata": {
    "ExecuteTime": {
     "end_time": "2025-04-12T11:23:49.137920Z",
     "start_time": "2025-04-12T11:23:48.640700Z"
    }
   },
   "cell_type": "code",
   "source": [
    "# Count occurrences of each label\n",
    "unique_labels, counts = np.unique(train_dataset['label'], return_counts=True)\n",
    "\n",
    "# Plot histogram\n",
    "plt.bar(unique_labels, counts, color=['skyblue', 'orange'], edgecolor='black')\n",
    "plt.title('Histogram of Binary Labels')\n",
    "plt.xlabel('Label')\n",
    "plt.ylabel('Frequency')\n",
    "plt.xticks(unique_labels)\n",
    "plt.grid(axis='y', linestyle='--', alpha=0.7)\n",
    "plt.show()"
   ],
   "id": "3a3394bfc7c6d370",
   "outputs": [
    {
     "data": {
      "text/plain": [
       "<Figure size 640x480 with 1 Axes>"
      ],
      "image/png": "[encoded data removed]"
     },
     "metadata": {},
     "output_type": "display_data"
    }
   ],
   "execution_count": 9
  },
  {
   "metadata": {},
   "cell_type": "markdown",
   "source": "# TF-IDF Feature Extraction",
   "id": "a83f0da9db2ea2b9"
  },
  {
   "metadata": {
    "ExecuteTime": {
     "end_time": "2025-04-12T11:23:54.372628Z",
     "start_time": "2025-04-12T11:23:49.144491Z"
    }
   },
   "cell_type": "code",
   "source": [
    "vocab_size = 10000\n",
    "\n",
    "vectorizer = TfidfVectorizer(\n",
    "    max_features=vocab_size,\n",
    "    lowercase=True,\n",
    "    analyzer='word',\n",
    "    ngram_range=(1, 1),\n",
    "    stop_words=\"english\"\n",
    ")\n",
    "\n",
    "train_tfidf_features = vectorizer.fit_transform(train_dataset[\"text\"])\n",
    "val_tfidf_features = vectorizer.transform(val_dataset[\"text\"])\n",
    "test_tfidf_features = vectorizer.transform(test_dataset[\"text\"])"
   ],
   "id": "97591fa46ff19535",
   "outputs": [],
   "execution_count": 10
  },
  {
   "metadata": {
    "ExecuteTime": {
     "end_time": "2025-04-12T11:23:54.399508Z",
     "start_time": "2025-04-12T11:23:54.391052Z"
    }
   },
   "cell_type": "code",
   "source": [
    "print(f\"Size of TF-IDF matrix for training dataset: {train_tfidf_features.shape}\")\n",
    "print(f\"{train_tfidf_features.dtype=}\\n\")\n",
    "\n",
    "feature_names = vectorizer.get_feature_names_out()\n",
    "print(f\"Number of features: {len(feature_names)}\")\n",
    "print(f\"Example features: {np.random.choice(feature_names, 20)}\\n\")"
   ],
   "id": "9913547d86c1740f",
   "outputs": [
    {
     "name": "stdout",
     "output_type": "stream",
     "text": [
      "Size of TF-IDF matrix for training dataset: (78000, 10000)\n",
      "train_tfidf_features.dtype=dtype('float64')\n",
      "\n",
      "Number of features: 10000\n",
      "Example features: ['diverse' 'floating' '120' 'flew' 'yells' 'melon' '4pm' 'speakeasy'\n",
      " 'extensive' 'cover' 'scores' 'custard' 'ca' 'reduction' 'store'\n",
      " 'similarly' 'emeril' 'runners' 'generally' 'crossing']\n",
      "\n"
     ]
    }
   ],
   "execution_count": 11
  },
  {
   "metadata": {},
   "cell_type": "markdown",
   "source": "## Displaying the feature vector for the selected training set element",
   "id": "84ce7fa33e030a49"
  },
  {
   "metadata": {
    "ExecuteTime": {
     "end_time": "2025-04-12T11:23:54.745421Z",
     "start_time": "2025-04-12T11:23:54.453623Z"
    }
   },
   "cell_type": "code",
   "source": [
    "ndx = 111\n",
    "print(f\"Training set element with index={ndx}\")\n",
    "print(f\"{train_dataset['text'][ndx]=}\\n\")\n",
    "\n",
    "print(f\"Features of element with index={ndx}:\")\n",
    "\n",
    "features = train_tfidf_features[ndx]\n",
    "non_zero_cols = features.nonzero()[1]\n",
    "\n",
    "non_zero_cols = sorted(non_zero_cols)\n",
    "\n",
    "for i in non_zero_cols:\n",
    "    print(f\"Column: {i} ({feature_names[i]})   Weight: {features[0, i]:.5f}\")"
   ],
   "id": "b1b10c5c0d2fe2",
   "outputs": [
    {
     "name": "stdout",
     "output_type": "stream",
     "text": [
      "Training set element with index=111\n",
      "train_dataset['text'][ndx]=\"Urgent review about the Starbucks inside Green Valley Ranch Casino! Don't use a credit card at this Starbucks. The casino is the franchisee and thus owns and operates this Starbucks independently. Starbucks just open up on Nov 13th. I purchased $5.03 at this location (coffee and pastry). I was billed an extra $22 cash advance fee for using my credit card at this Starbucks. How is that even possible? Since the casino owns this location, the credit card transaction is being billed as a cash advance for gambling, yet billed through Starbucks. I confirmed this with my credit card company. I wonder how many people have been affected by this, and if and when they are going to correct it.\"\n",
      "\n",
      "Features of element with index=111:\n",
      "Column: 73 (22)   Weight: 0.10010\n",
      "Column: 300 (advance)   Weight: 0.19925\n",
      "Column: 318 (affected)   Weight: 0.13357\n",
      "Column: 972 (billed)   Weight: 0.37870\n",
      "Column: 1449 (card)   Weight: 0.29703\n",
      "Column: 1496 (cash)   Weight: 0.16488\n",
      "Column: 1501 (casino)   Weight: 0.21642\n",
      "Column: 1861 (coffee)   Weight: 0.06641\n",
      "Column: 1931 (company)   Weight: 0.07664\n",
      "Column: 2013 (confirmed)   Weight: 0.10750\n",
      "Column: 2126 (correct)   Weight: 0.08993\n",
      "Column: 2234 (credit)   Weight: 0.32360\n",
      "Column: 2738 (don)   Weight: 0.04097\n",
      "Column: 3213 (extra)   Weight: 0.06584\n",
      "Column: 3324 (fee)   Weight: 0.08572\n",
      "Column: 3697 (gambling)   Weight: 0.09920\n",
      "Column: 3809 (going)   Weight: 0.04746\n",
      "Column: 3887 (green)   Weight: 0.07258\n",
      "Column: 4475 (inside)   Weight: 0.06065\n",
      "Column: 4695 (just)   Weight: 0.03310\n",
      "Column: 5049 (location)   Weight: 0.11192\n",
      "Column: 6211 (open)   Weight: 0.06256\n",
      "Column: 6319 (owns)   Weight: 0.23035\n",
      "Column: 6447 (pastry)   Weight: 0.10268\n",
      "Column: 6518 (people)   Weight: 0.04529\n",
      "Column: 6797 (possible)   Weight: 0.08312\n",
      "Column: 7032 (purchased)   Weight: 0.08903\n",
      "Column: 7132 (ranch)   Weight: 0.09451\n",
      "Column: 7448 (review)   Weight: 0.06052\n",
      "Column: 8450 (starbucks)   Weight: 0.54170\n",
      "Column: 9186 (transaction)   Weight: 0.11544\n",
      "Column: 9482 (urgent)   Weight: 0.12208\n",
      "Column: 9485 (use)   Weight: 0.06267\n",
      "Column: 9493 (using)   Weight: 0.08341\n",
      "Column: 9512 (valley)   Weight: 0.08096\n",
      "Column: 9868 (wonder)   Weight: 0.08944\n"
     ]
    }
   ],
   "execution_count": 12
  },
  {
   "metadata": {},
   "cell_type": "markdown",
   "source": "# Converting datasets into DataLoader",
   "id": "143c9f7b7b11f9f7"
  },
  {
   "metadata": {
    "ExecuteTime": {
     "end_time": "2025-04-12T11:23:54.755262Z",
     "start_time": "2025-04-12T11:23:54.752829Z"
    }
   },
   "cell_type": "code",
   "source": [
    "def make_dataset(sparse_features, labels):\n",
    "    dense_features = sparse_features.astype(np.float32).todense()\n",
    "\n",
    "    dataset = TensorDataset(\n",
    "        torch.from_numpy(dense_features),\n",
    "        torch.tensor(labels, dtype=torch.int64)\n",
    "    )\n",
    "\n",
    "    return dataset"
   ],
   "id": "4aa7378abe414dfe",
   "outputs": [],
   "execution_count": 13
  },
  {
   "metadata": {
    "ExecuteTime": {
     "end_time": "2025-04-12T11:23:55.668190Z",
     "start_time": "2025-04-12T11:23:54.797540Z"
    }
   },
   "cell_type": "code",
   "source": [
    "datasets = {\n",
    "    'train': make_dataset(train_tfidf_features, train_dataset['label']),\n",
    "    'val': make_dataset(val_tfidf_features, val_dataset['label']),\n",
    "    'test': make_dataset(test_tfidf_features, test_dataset['label'])\n",
    "}"
   ],
   "id": "afabebe4d78a6e77",
   "outputs": [],
   "execution_count": 14
  },
  {
   "metadata": {
    "ExecuteTime": {
     "end_time": "2025-04-12T11:23:55.677519Z",
     "start_time": "2025-04-12T11:23:55.675244Z"
    }
   },
   "cell_type": "code",
   "source": [
    "batch_size = 256\n",
    "\n",
    "dataloaders = {split: DataLoader(datasets[split], batch_size=batch_size, shuffle=split=='train', num_workers=0) for split in datasets}"
   ],
   "id": "a5b033d8184145be",
   "outputs": [],
   "execution_count": 15
  },
  {
   "metadata": {},
   "cell_type": "markdown",
   "source": "# Creating instance of ReviewClassifier model",
   "id": "48964f6c1d4e1091"
  },
  {
   "metadata": {
    "ExecuteTime": {
     "end_time": "2025-04-12T11:23:55.880916Z",
     "start_time": "2025-04-12T11:23:55.722281Z"
    }
   },
   "cell_type": "code",
   "source": [
    "use_cuda = torch.cuda.is_available()\n",
    "device = torch.device(\"cuda:0\" if use_cuda else \"cpu\")\n",
    "print(\"Urządzenie: {}\".format(device))"
   ],
   "id": "6318527b1c187782",
   "outputs": [
    {
     "name": "stdout",
     "output_type": "stream",
     "text": [
      "Urządzenie: cuda:0\n"
     ]
    }
   ],
   "execution_count": 16
  },
  {
   "metadata": {
    "ExecuteTime": {
     "end_time": "2025-04-12T11:23:56.088992Z",
     "start_time": "2025-04-12T11:23:55.931580Z"
    }
   },
   "cell_type": "code",
   "source": [
    "classifier = ReviewClassifier(vocab_size, n_classes=5)\n",
    "classifier.to(device)\n",
    "\n",
    "print(classifier)"
   ],
   "id": "9566f5f775d62567",
   "outputs": [
    {
     "name": "stdout",
     "output_type": "stream",
     "text": [
      "ReviewClassifier(\n",
      "  (feature_extractor): Sequential(\n",
      "    (0): Linear(in_features=10000, out_features=64, bias=True)\n",
      "    (1): ReLU()\n",
      "    (2): Linear(in_features=64, out_features=16, bias=True)\n",
      "    (3): ReLU()\n",
      "  )\n",
      "  (dropout): Dropout(p=0.1, inplace=False)\n",
      "  (linear): Linear(in_features=16, out_features=5, bias=True)\n",
      ")\n"
     ]
    }
   ],
   "execution_count": 17
  },
  {
   "metadata": {},
   "cell_type": "markdown",
   "source": "# Training",
   "id": "eaa41426a9784007"
  },
  {
   "metadata": {
    "ExecuteTime": {
     "end_time": "2025-04-12T11:23:56.100077Z",
     "start_time": "2025-04-12T11:23:56.095613Z"
    }
   },
   "cell_type": "code",
   "source": [
    "def train(\n",
    "        model: nn.Module,\n",
    "        loaders: dict[DataLoader],\n",
    "        criterion: nn.Module,\n",
    "        optimizer: torch.optim.Optimizer,\n",
    "        lr_scheduler,\n",
    "        num_epochs: int\n",
    "):\n",
    "\n",
    "    metric_loss = torchmetrics.aggregation.MeanMetric().to(device)\n",
    "    metric_acc = torchmetrics.classification.Accuracy(task=\"multiclass\",num_classes=5).to(device)\n",
    "\n",
    "    for epoch in range(1, num_epochs+1):\n",
    "\n",
    "        for phase in ['train', 'val']:\n",
    "            if phase == 'train':\n",
    "                model.train()\n",
    "            else:\n",
    "                model.eval()\n",
    "\n",
    "            for X_batch, target in tqdm(loaders[phase]):\n",
    "                X_batch, target = X_batch.to(device), target.to(device)\n",
    "\n",
    "                optimizer.zero_grad()\n",
    "\n",
    "                with torch.set_grad_enabled(phase == 'train'):\n",
    "                    logits = model(X_batch)\n",
    "                    _, preds = torch.max(logits, dim=1)\n",
    "\n",
    "                    loss = criterion(logits, target)\n",
    "\n",
    "                    metric_loss(loss)\n",
    "                    metric_acc(preds, target)\n",
    "\n",
    "                    if phase == 'train':\n",
    "                        loss.backward()\n",
    "                        optimizer.step()\n",
    "\n",
    "            acc = metric_acc.compute()\n",
    "            mean_loss = metric_loss.compute()\n",
    "            current_lr = lr_scheduler.get_last_lr()[0]\n",
    "\n",
    "            print(f\"(Epoch {epoch}/[{phase}]) Loss:\\t{mean_loss:.3f}   Accuracy: {acc:.3f}   lr: {current_lr}\")\n",
    "\n",
    "            metrics = {\n",
    "                f\"{phase}/loss\": mean_loss,\n",
    "                f\"{phase}/accuracy\": acc,\n",
    "                f\"{phase}/lr\": current_lr,\n",
    "            }\n",
    "\n",
    "            wandb.log(metrics, step=epoch)\n",
    "\n",
    "            metric_loss.reset()\n",
    "            metric_acc.reset()\n",
    "\n",
    "        lr_scheduler.step()\n"
   ],
   "id": "4b79bcc6de72c9b2",
   "outputs": [],
   "execution_count": 18
  },
  {
   "metadata": {
    "ExecuteTime": {
     "end_time": "2025-04-12T11:24:16.612752Z",
     "start_time": "2025-04-12T11:23:56.139929Z"
    }
   },
   "cell_type": "code",
   "source": [
    "num_epochs = 8\n",
    "\n",
    "criterion = nn.CrossEntropyLoss()\n",
    "optimizer = torch.optim.AdamW(\n",
    "    classifier.parameters(),\n",
    "    lr=1e-4,\n",
    "    weight_decay=1e-5\n",
    ")\n",
    "\n",
    "lr_scheduler = torch.optim.lr_scheduler.CosineAnnealingLR(\n",
    "    optimizer,\n",
    "    T_max=num_epochs,\n",
    "    eta_min=1e-5\n",
    ")\n",
    "\n",
    "run = wandb.init(project=\"Yelp_Review_Rating_Predictor\")\n",
    "train(classifier, dataloaders, criterion, optimizer, lr_scheduler, num_epochs)\n",
    "run.finish()"
   ],
   "id": "70143e60ac17707e",
   "outputs": [
    {
     "data": {
      "text/plain": [
       "<IPython.core.display.HTML object>"
      ],
      "text/html": [
       "Tracking run with wandb version 0.19.9"
      ]
     },
     "metadata": {},
     "output_type": "display_data"
    },
    {
     "data": {
      "text/plain": [
       "<IPython.core.display.HTML object>"
      ],
      "text/html": [
       "Run data is saved locally in <code>/home/dominika/Desktop/New Folder/Yelp-review-rating-predictor/wandb/run-20250412_132356-74ddgc0t</code>"
      ]
     },
     "metadata": {},
     "output_type": "display_data"
    },
    {
     "data": {
      "text/plain": [
       "<IPython.core.display.HTML object>"
      ],
      "text/html": [
       "Syncing run <strong><a href='https://wandb.ai/dominika-boguszewska-stud-warsaw-university-of-technology/Yelp_Review_Rating_Predictor/runs/74ddgc0t' target=\"_blank\">swift-night-1</a></strong> to <a href='https://wandb.ai/dominika-boguszewska-stud-warsaw-university-of-technology/Yelp_Review_Rating_Predictor' target=\"_blank\">Weights & Biases</a> (<a href='https://wandb.me/developer-guide' target=\"_blank\">docs</a>)<br>"
      ]
     },
     "metadata": {},
     "output_type": "display_data"
    },
    {
     "data": {
      "text/plain": [
       "<IPython.core.display.HTML object>"
      ],
      "text/html": [
       " View project at <a href='https://wandb.ai/dominika-boguszewska-stud-warsaw-university-of-technology/Yelp_Review_Rating_Predictor' target=\"_blank\">https://wandb.ai/dominika-boguszewska-stud-warsaw-university-of-technology/Yelp_Review_Rating_Predictor</a>"
      ]
     },
     "metadata": {},
     "output_type": "display_data"
    },
    {
     "data": {
      "text/plain": [
       "<IPython.core.display.HTML object>"
      ],
      "text/html": [
       " View run at <a href='https://wandb.ai/dominika-boguszewska-stud-warsaw-university-of-technology/Yelp_Review_Rating_Predictor/runs/74ddgc0t' target=\"_blank\">https://wandb.ai/dominika-boguszewska-stud-warsaw-university-of-technology/Yelp_Review_Rating_Predictor/runs/74ddgc0t</a>"
      ]
     },
     "metadata": {},
     "output_type": "display_data"
    },
    {
     "name": "stderr",
     "output_type": "stream",
     "text": [
      "100%|██████████| 305/305 [00:02<00:00, 139.46it/s]\n"
     ]
    },
    {
     "name": "stdout",
     "output_type": "stream",
     "text": [
      "(Epoch 1/[train]) Loss:\t1.606   Accuracy: 0.198   lr: 0.0001\n"
     ]
    },
    {
     "name": "stderr",
     "output_type": "stream",
     "text": [
      "100%|██████████| 51/51 [00:00<00:00, 175.47it/s]\n"
     ]
    },
    {
     "name": "stdout",
     "output_type": "stream",
     "text": [
      "(Epoch 1/[val]) Loss:\t1.591   Accuracy: 0.204   lr: 0.0001\n"
     ]
    },
    {
     "name": "stderr",
     "output_type": "stream",
     "text": [
      "100%|██████████| 305/305 [00:01<00:00, 154.93it/s]\n"
     ]
    },
    {
     "name": "stdout",
     "output_type": "stream",
     "text": [
      "(Epoch 2/[train]) Loss:\t1.554   Accuracy: 0.303   lr: 9.657457896300791e-05\n"
     ]
    },
    {
     "name": "stderr",
     "output_type": "stream",
     "text": [
      "100%|██████████| 51/51 [00:00<00:00, 171.58it/s]\n"
     ]
    },
    {
     "name": "stdout",
     "output_type": "stream",
     "text": [
      "(Epoch 2/[val]) Loss:\t1.499   Accuracy: 0.451   lr: 9.657457896300791e-05\n"
     ]
    },
    {
     "name": "stderr",
     "output_type": "stream",
     "text": [
      "100%|██████████| 305/305 [00:01<00:00, 155.75it/s]\n"
     ]
    },
    {
     "name": "stdout",
     "output_type": "stream",
     "text": [
      "(Epoch 3/[train]) Loss:\t1.421   Accuracy: 0.484   lr: 8.681980515339464e-05\n"
     ]
    },
    {
     "name": "stderr",
     "output_type": "stream",
     "text": [
      "100%|██████████| 51/51 [00:00<00:00, 176.16it/s]\n"
     ]
    },
    {
     "name": "stdout",
     "output_type": "stream",
     "text": [
      "(Epoch 3/[val]) Loss:\t1.344   Accuracy: 0.525   lr: 8.681980515339464e-05\n"
     ]
    },
    {
     "name": "stderr",
     "output_type": "stream",
     "text": [
      "100%|██████████| 305/305 [00:01<00:00, 154.72it/s]\n"
     ]
    },
    {
     "name": "stdout",
     "output_type": "stream",
     "text": [
      "(Epoch 4/[train]) Loss:\t1.285   Accuracy: 0.505   lr: 7.222075445642905e-05\n"
     ]
    },
    {
     "name": "stderr",
     "output_type": "stream",
     "text": [
      "100%|██████████| 51/51 [00:00<00:00, 173.62it/s]\n"
     ]
    },
    {
     "name": "stdout",
     "output_type": "stream",
     "text": [
      "(Epoch 4/[val]) Loss:\t1.238   Accuracy: 0.531   lr: 7.222075445642905e-05\n"
     ]
    },
    {
     "name": "stderr",
     "output_type": "stream",
     "text": [
      "100%|██████████| 305/305 [00:01<00:00, 161.34it/s]\n"
     ]
    },
    {
     "name": "stdout",
     "output_type": "stream",
     "text": [
      "(Epoch 5/[train]) Loss:\t1.205   Accuracy: 0.516   lr: 5.5e-05\n"
     ]
    },
    {
     "name": "stderr",
     "output_type": "stream",
     "text": [
      "100%|██████████| 51/51 [00:00<00:00, 180.76it/s]\n"
     ]
    },
    {
     "name": "stdout",
     "output_type": "stream",
     "text": [
      "(Epoch 5/[val]) Loss:\t1.181   Accuracy: 0.540   lr: 5.5e-05\n"
     ]
    },
    {
     "name": "stderr",
     "output_type": "stream",
     "text": [
      "100%|██████████| 305/305 [00:02<00:00, 144.69it/s]\n"
     ]
    },
    {
     "name": "stdout",
     "output_type": "stream",
     "text": [
      "(Epoch 6/[train]) Loss:\t1.162   Accuracy: 0.523   lr: 3.777924554357096e-05\n"
     ]
    },
    {
     "name": "stderr",
     "output_type": "stream",
     "text": [
      "100%|██████████| 51/51 [00:00<00:00, 169.09it/s]\n"
     ]
    },
    {
     "name": "stdout",
     "output_type": "stream",
     "text": [
      "(Epoch 6/[val]) Loss:\t1.151   Accuracy: 0.544   lr: 3.777924554357096e-05\n"
     ]
    },
    {
     "name": "stderr",
     "output_type": "stream",
     "text": [
      "100%|██████████| 305/305 [00:01<00:00, 155.82it/s]\n"
     ]
    },
    {
     "name": "stdout",
     "output_type": "stream",
     "text": [
      "(Epoch 7/[train]) Loss:\t1.137   Accuracy: 0.526   lr: 2.3180194846605367e-05\n"
     ]
    },
    {
     "name": "stderr",
     "output_type": "stream",
     "text": [
      "100%|██████████| 51/51 [00:00<00:00, 178.68it/s]\n"
     ]
    },
    {
     "name": "stdout",
     "output_type": "stream",
     "text": [
      "(Epoch 7/[val]) Loss:\t1.135   Accuracy: 0.545   lr: 2.3180194846605367e-05\n"
     ]
    },
    {
     "name": "stderr",
     "output_type": "stream",
     "text": [
      "100%|██████████| 305/305 [00:01<00:00, 159.70it/s]\n"
     ]
    },
    {
     "name": "stdout",
     "output_type": "stream",
     "text": [
      "(Epoch 8/[train]) Loss:\t1.125   Accuracy: 0.531   lr: 1.3425421036992098e-05\n"
     ]
    },
    {
     "name": "stderr",
     "output_type": "stream",
     "text": [
      "100%|██████████| 51/51 [00:00<00:00, 182.82it/s]"
     ]
    },
    {
     "name": "stdout",
     "output_type": "stream",
     "text": [
      "(Epoch 8/[val]) Loss:\t1.127   Accuracy: 0.546   lr: 1.3425421036992098e-05\n"
     ]
    },
    {
     "name": "stderr",
     "output_type": "stream",
     "text": [
      "\n"
     ]
    },
    {
     "data": {
      "text/plain": [
       "<IPython.core.display.HTML object>"
      ],
      "text/html": []
     },
     "metadata": {},
     "output_type": "display_data"
    },
    {
     "data": {
      "text/plain": [
       "<IPython.core.display.HTML object>"
      ],
      "text/html": [
       "<br>    <style><br>        .wandb-row {<br>            display: flex;<br>            flex-direction: row;<br>            flex-wrap: wrap;<br>            justify-content: flex-start;<br>            width: 100%;<br>        }<br>        .wandb-col {<br>            display: flex;<br>            flex-direction: column;<br>            flex-basis: 100%;<br>            flex: 1;<br>            padding: 10px;<br>        }<br>    </style><br><div class=\"wandb-row\"><div class=\"wandb-col\"><h3>Run history:</h3><br/><table class=\"wandb\"><tr><td>train/accuracy</td><td>▁▃▇▇████</td></tr><tr><td>train/loss</td><td>█▇▅▃▂▂▁▁</td></tr><tr><td>train/lr</td><td>██▇▆▄▃▂▁</td></tr><tr><td>val/accuracy</td><td>▁▆██████</td></tr><tr><td>val/loss</td><td>█▇▄▃▂▁▁▁</td></tr><tr><td>val/lr</td><td>██▇▆▄▃▂▁</td></tr></table><br/></div><div class=\"wandb-col\"><h3>Run summary:</h3><br/><table class=\"wandb\"><tr><td>train/accuracy</td><td>0.53117</td></tr><tr><td>train/loss</td><td>1.12506</td></tr><tr><td>train/lr</td><td>1e-05</td></tr><tr><td>val/accuracy</td><td>0.54608</td></tr><tr><td>val/loss</td><td>1.12717</td></tr><tr><td>val/lr</td><td>1e-05</td></tr></table><br/></div></div>"
      ]
     },
     "metadata": {},
     "output_type": "display_data"
    },
    {
     "data": {
      "text/plain": [
       "<IPython.core.display.HTML object>"
      ],
      "text/html": [
       " View run <strong style=\"color:#cdcd00\">swift-night-1</strong> at: <a href='https://wandb.ai/dominika-boguszewska-stud-warsaw-university-of-technology/Yelp_Review_Rating_Predictor/runs/74ddgc0t' target=\"_blank\">https://wandb.ai/dominika-boguszewska-stud-warsaw-university-of-technology/Yelp_Review_Rating_Predictor/runs/74ddgc0t</a><br> View project at: <a href='https://wandb.ai/dominika-boguszewska-stud-warsaw-university-of-technology/Yelp_Review_Rating_Predictor' target=\"_blank\">https://wandb.ai/dominika-boguszewska-stud-warsaw-university-of-technology/Yelp_Review_Rating_Predictor</a><br>Synced 5 W&B file(s), 0 media file(s), 0 artifact file(s) and 0 other file(s)"
      ]
     },
     "metadata": {},
     "output_type": "display_data"
    },
    {
     "data": {
      "text/plain": [
       "<IPython.core.display.HTML object>"
      ],
      "text/html": [
       "Find logs at: <code>./wandb/run-20250412_132356-74ddgc0t/logs</code>"
      ]
     },
     "metadata": {},
     "output_type": "display_data"
    }
   ],
   "execution_count": 19
  },
  {
   "metadata": {},
   "cell_type": "markdown",
   "source": "# Model evaluation",
   "id": "9cd0171b6950f6a7"
  },
  {
   "metadata": {},
   "cell_type": "markdown",
   "source": "## Getting predictions",
   "id": "16d708877f0417dd"
  },
  {
   "metadata": {
    "ExecuteTime": {
     "end_time": "2025-04-12T11:24:16.993391Z",
     "start_time": "2025-04-12T11:24:16.637213Z"
    }
   },
   "cell_type": "code",
   "source": [
    "preds_l = []\n",
    "targets_l = []\n",
    "\n",
    "classifier.eval()\n",
    "\n",
    "for X_batch, target in tqdm(dataloaders['test']):\n",
    "    # Przenieś dane na odpowiednie urządzenie\n",
    "    X_batch, target = X_batch.to(device), target.to(device)\n",
    "\n",
    "    # Przejście w przód (forward)\n",
    "    # Śledzenie historii obliczeń tylko w fazie trenowania\n",
    "    with torch.inference_mode():\n",
    "        logits = classifier(X_batch)\n",
    "        _, preds = torch.max(logits, dim=-1)\n",
    "        preds_l.extend(preds.cpu().numpy())\n",
    "        targets_l.extend(target.cpu().numpy())\n",
    "\n",
    "preds = np.array(preds_l)\n",
    "targets = np.array(targets_l)\n",
    "\n",
    "print(f\"{preds.shape=}\")\n",
    "print(f\"{targets.shape=}\")"
   ],
   "id": "3017df35c2c62b89",
   "outputs": [
    {
     "name": "stderr",
     "output_type": "stream",
     "text": [
      "100%|██████████| 79/79 [00:00<00:00, 226.98it/s]"
     ]
    },
    {
     "name": "stdout",
     "output_type": "stream",
     "text": [
      "preds.shape=(20000,)\n",
      "targets.shape=(20000,)\n"
     ]
    },
    {
     "name": "stderr",
     "output_type": "stream",
     "text": [
      "\n"
     ]
    }
   ],
   "execution_count": 20
  },
  {
   "metadata": {},
   "cell_type": "markdown",
   "source": "## Calculating metrics",
   "id": "3022a834f3b19b93"
  },
  {
   "metadata": {
    "ExecuteTime": {
     "end_time": "2025-04-12T11:24:17.053803Z",
     "start_time": "2025-04-12T11:24:17.043529Z"
    }
   },
   "cell_type": "code",
   "source": [
    "labels = ['0', '1', '2', '3', '4']\n",
    "\n",
    "report = classification_report(targets, preds, target_names = labels)\n",
    "print(report)"
   ],
   "id": "e02b9a74c71e6565",
   "outputs": [
    {
     "name": "stdout",
     "output_type": "stream",
     "text": [
      "              precision    recall  f1-score   support\n",
      "\n",
      "           0       0.63      0.79      0.70      3965\n",
      "           1       0.49      0.37      0.42      4034\n",
      "           2       0.43      0.47      0.45      4051\n",
      "           3       0.50      0.39      0.44      4019\n",
      "           4       0.62      0.71      0.66      3931\n",
      "\n",
      "    accuracy                           0.54     20000\n",
      "   macro avg       0.53      0.54      0.53     20000\n",
      "weighted avg       0.53      0.54      0.53     20000\n",
      "\n"
     ]
    }
   ],
   "execution_count": 21
  },
  {
   "metadata": {},
   "cell_type": "markdown",
   "source": "## Calculating confusion matrix",
   "id": "7e5dc70e4a224c81"
  },
  {
   "metadata": {
    "ExecuteTime": {
     "end_time": "2025-04-12T11:24:17.230123Z",
     "start_time": "2025-04-12T11:24:17.104883Z"
    }
   },
   "cell_type": "code",
   "source": [
    "cm = confusion_matrix(targets, preds)\n",
    "\n",
    "# Create a heatmap\n",
    "plt.figure(figsize=(5, 4))\n",
    "sns.heatmap(cm, annot=True, fmt='d', cmap='Blues', xticklabels=labels, yticklabels=labels)\n",
    "plt.title('Macierz pomyłek')\n",
    "plt.xlabel('Predykowana klasa')\n",
    "plt.ylabel('Prawdziwa klasa')\n",
    "plt.show()"
   ],
   "id": "603ec6cd71b7c93b",
   "outputs": [
    {
     "data": {
      "text/plain": [
       "<Figure size 500x400 with 2 Axes>"
      ],
      "image/png": "[encoded data removed]"
     },
     "metadata": {},
     "output_type": "display_data"
    }
   ],
   "execution_count": 22
  },
  {
   "metadata": {
    "ExecuteTime": {
     "end_time": "2025-04-12T11:24:17.246739Z",
     "start_time": "2025-04-12T11:24:17.244940Z"
    }
   },
   "cell_type": "code",
   "source": "",
   "id": "12dd24a5b23c6116",
   "outputs": [],
   "execution_count": null
  }
 ],
 "metadata": {
  "kernelspec": {
   "display_name": "Python 3",
   "language": "python",
   "name": "python3"
  },
  "language_info": {
   "codemirror_mode": {
    "name": "ipython",
    "version": 2
   },
   "file_extension": ".py",
   "mimetype": "text/x-python",
   "name": "python",
   "nbconvert_exporter": "python",
   "pygments_lexer": "ipython2",
   "version": "2.7.6"
  }
 },
 "nbformat": 4,
 "nbformat_minor": 5
}
